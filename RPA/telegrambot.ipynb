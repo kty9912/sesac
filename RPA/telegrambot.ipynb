{
 "cells": [
  {
   "cell_type": "code",
   "execution_count": 1,
   "metadata": {},
   "outputs": [],
   "source": [
    "import telegram"
   ]
  },
  {
   "cell_type": "code",
   "execution_count": 2,
   "metadata": {},
   "outputs": [
    {
     "name": "stdout",
     "output_type": "stream",
     "text": [
      "{'token': '5631099035:AAFl-C_KieO-ChNJcs9fYQmbN5ovcCRC-0E', 'chatid': '1732759665'}\n"
     ]
    }
   ],
   "source": [
    "telegram_config = {}\n",
    "with open('./telegram_config', 'r') as f:\n",
    "    configs = f.readlines()\n",
    "    for config in configs:\n",
    "        key, value = config.rstrip().split('=')\n",
    "        telegram_config[key] = value\n",
    "print(telegram_config)\n",
    "token = telegram_config['token']"
   ]
  },
  {
   "cell_type": "code",
   "execution_count": 3,
   "metadata": {},
   "outputs": [],
   "source": [
    "bot = telegram.Bot(token)"
   ]
  },
  {
   "cell_type": "code",
   "execution_count": 8,
   "metadata": {},
   "outputs": [],
   "source": [
    "updates = bot.get_updates()"
   ]
  },
  {
   "cell_type": "code",
   "execution_count": 9,
   "metadata": {},
   "outputs": [
    {
     "data": {
      "text/plain": [
       "[<telegram.update.Update at 0x1da50d42440>]"
      ]
     },
     "execution_count": 9,
     "metadata": {},
     "output_type": "execute_result"
    }
   ],
   "source": [
    "updates"
   ]
  },
  {
   "cell_type": "code",
   "execution_count": 10,
   "metadata": {},
   "outputs": [],
   "source": [
    "# 신규메시지 조회\n",
    "chatid = updates[-1].message.chat.id"
   ]
  },
  {
   "cell_type": "code",
   "execution_count": 11,
   "metadata": {},
   "outputs": [
    {
     "data": {
      "text/plain": [
       "1732759665"
      ]
     },
     "execution_count": 11,
     "metadata": {},
     "output_type": "execute_result"
    }
   ],
   "source": [
    "chatid"
   ]
  },
  {
   "cell_type": "code",
   "execution_count": 12,
   "metadata": {},
   "outputs": [
    {
     "data": {
      "text/plain": [
       "<telegram.message.Message at 0x1da4dce99a0>"
      ]
     },
     "execution_count": 12,
     "metadata": {},
     "output_type": "execute_result"
    }
   ],
   "source": [
    "bot.send_message(chatid,'안녕하세요~')"
   ]
  },
  {
   "cell_type": "code",
   "execution_count": 13,
   "metadata": {},
   "outputs": [
    {
     "data": {
      "text/plain": [
       "'테스트'"
      ]
     },
     "execution_count": 13,
     "metadata": {},
     "output_type": "execute_result"
    }
   ],
   "source": [
    "updates[-1].message.text"
   ]
  },
  {
   "cell_type": "code",
   "execution_count": 14,
   "metadata": {},
   "outputs": [],
   "source": [
    "last_id = updates[-1].update_id"
   ]
  },
  {
   "cell_type": "code",
   "execution_count": 18,
   "metadata": {},
   "outputs": [
    {
     "data": {
      "text/plain": [
       "<telegram.update.Update at 0x1da50d428c0>"
      ]
     },
     "execution_count": 18,
     "metadata": {},
     "output_type": "execute_result"
    }
   ],
   "source": [
    "bot.get_updates(offset=last_id+1)[-1]"
   ]
  },
  {
   "cell_type": "code",
   "execution_count": 19,
   "metadata": {},
   "outputs": [],
   "source": [
    "update_id = bot.get_updates()[-1].update_id"
   ]
  },
  {
   "cell_type": "code",
   "execution_count": 20,
   "metadata": {},
   "outputs": [
    {
     "data": {
      "text/plain": [
       "[]"
      ]
     },
     "execution_count": 20,
     "metadata": {},
     "output_type": "execute_result"
    }
   ],
   "source": [
    "bot.get_updates(offset=update_id + 1)"
   ]
  },
  {
   "cell_type": "code",
   "execution_count": 21,
   "metadata": {},
   "outputs": [
    {
     "ename": "KeyboardInterrupt",
     "evalue": "",
     "output_type": "error",
     "traceback": [
      "\u001b[1;31m---------------------------------------------------------------------------\u001b[0m",
      "\u001b[1;31mKeyboardInterrupt\u001b[0m                         Traceback (most recent call last)",
      "\u001b[1;32mc:\\Users\\TAEYONG\\Desktop\\sesac\\RPA\\실습자료\\telegrambot.ipynb 셀 14\u001b[0m in \u001b[0;36m<cell line: 4>\u001b[1;34m()\u001b[0m\n\u001b[0;32m     <a href='vscode-notebook-cell:/c%3A/Users/TAEYONG/Desktop/sesac/RPA/%EC%8B%A4%EC%8A%B5%EC%9E%90%EB%A3%8C/telegrambot.ipynb#X20sZmlsZQ%3D%3D?line=23'>24</a>\u001b[0m     \u001b[39mpass\u001b[39;00m\n\u001b[0;32m     <a href='vscode-notebook-cell:/c%3A/Users/TAEYONG/Desktop/sesac/RPA/%EC%8B%A4%EC%8A%B5%EC%9E%90%EB%A3%8C/telegrambot.ipynb#X20sZmlsZQ%3D%3D?line=25'>26</a>\u001b[0m \u001b[39m# 텔레그램 서버 부하 줄이기 위해 3초마다 확인\u001b[39;00m\n\u001b[1;32m---> <a href='vscode-notebook-cell:/c%3A/Users/TAEYONG/Desktop/sesac/RPA/%EC%8B%A4%EC%8A%B5%EC%9E%90%EB%A3%8C/telegrambot.ipynb#X20sZmlsZQ%3D%3D?line=26'>27</a>\u001b[0m time\u001b[39m.\u001b[39;49msleep(\u001b[39m3\u001b[39;49m)\n",
      "\u001b[1;31mKeyboardInterrupt\u001b[0m: "
     ]
    }
   ],
   "source": [
    "# 서버에서 텔레그램 메시지 확인, 응답 보내기\n",
    "import time\n",
    "\n",
    "while True:\n",
    "    \n",
    "    try:\n",
    "        # 신규 메시지가 없을 경우 에러가 발생 \n",
    "        # list index out of range\n",
    "        # 따라서, try - except 문으로 묶어줌\n",
    "        new_message = bot.get_updates(offset=last_id)[-1]\n",
    "\n",
    "        # 만약 신규 메시지가 오늘날씨면,\n",
    "        if new_message.message.text == '오늘날씨':\n",
    "            # 관련 메시지 발송\n",
    "            bot.send_message(chatid, '오늘날씨는 화창합니다.')\n",
    "        # 만약 신규 메시지가 내일날씨면,\n",
    "        elif new_message.message.text == '내일날씨':\n",
    "            # 관련 메시지 발송\n",
    "            bot.send_message(chatid, '내일날씨도 화창합니다.')\n",
    "\n",
    "        # offset 값 최신화 (update_id) + 1 해줘서 그 다음부터 메시지부터 확인하도록\n",
    "        last_id = new_message.update_id + 1\n",
    "    except:\n",
    "        pass\n",
    "\n",
    "    # 텔레그램 서버 부하 줄이기 위해 3초마다 확인\n",
    "    time.sleep(3)"
   ]
  },
  {
   "cell_type": "code",
   "execution_count": 22,
   "metadata": {},
   "outputs": [
    {
     "data": {
      "text/plain": [
       "35369292"
      ]
     },
     "execution_count": 22,
     "metadata": {},
     "output_type": "execute_result"
    }
   ],
   "source": [
    "last_id"
   ]
  },
  {
   "cell_type": "code",
   "execution_count": null,
   "metadata": {},
   "outputs": [],
   "source": [
    "# 그룹에 메시지 보내기"
   ]
  },
  {
   "cell_type": "code",
   "execution_count": 23,
   "metadata": {},
   "outputs": [
    {
     "data": {
      "text/plain": [
       "[]"
      ]
     },
     "execution_count": 23,
     "metadata": {},
     "output_type": "execute_result"
    }
   ],
   "source": [
    "bot.get_updates()"
   ]
  },
  {
   "cell_type": "code",
   "execution_count": null,
   "metadata": {},
   "outputs": [],
   "source": [
    "bot.get_updates()[-1].message.chat_id # [-1].message.chat_id"
   ]
  },
  {
   "cell_type": "code",
   "execution_count": null,
   "metadata": {},
   "outputs": [],
   "source": [
    "group_id = bot.get_updates()[-1].message.chat_id"
   ]
  },
  {
   "cell_type": "code",
   "execution_count": null,
   "metadata": {},
   "outputs": [],
   "source": [
    "bot.send_message('-447930618', '테스트')"
   ]
  }
 ],
 "metadata": {
  "kernelspec": {
   "display_name": "Python 3.10.4 ('study')",
   "language": "python",
   "name": "python3"
  },
  "language_info": {
   "codemirror_mode": {
    "name": "ipython",
    "version": 3
   },
   "file_extension": ".py",
   "mimetype": "text/x-python",
   "name": "python",
   "nbconvert_exporter": "python",
   "pygments_lexer": "ipython3",
   "version": "3.10.4"
  },
  "orig_nbformat": 4,
  "vscode": {
   "interpreter": {
    "hash": "71ed1755ac5addb945195a9db389b37bb4f0aaa318b50b24df22ae6c8eba25ac"
   }
  }
 },
 "nbformat": 4,
 "nbformat_minor": 2
}
