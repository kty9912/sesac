{
 "cells": [
  {
   "cell_type": "code",
   "execution_count": 18,
   "metadata": {},
   "outputs": [],
   "source": [
    "SMTP_SERVER = 'smtp.naver.com'\n",
    "SMTP_PORT = 465\n",
    "SMTP_USER = 'kty9912@naver.com'\n",
    "# 실제비밀번호입력\n",
    "SMTP_PASSWORD = open('./email_config','r').read().rstrip()"
   ]
  },
  {
   "cell_type": "code",
   "execution_count": 23,
   "metadata": {},
   "outputs": [],
   "source": [
    "from email.mime.multipart import MIMEMultipart\n",
    "from email.mime.text import MIMEText\n",
    "\n",
    "# 편지봉투 만들기\n",
    "msg = MIMEMultipart('alternative')\n",
    "\n",
    "# 첨부파일 여부\n",
    "# if attachment:\n",
    "#     msg = MIMEMulitipart('mixed')\n",
    "\n",
    "# 편지 내용\n",
    "contents = '테스트'\n",
    "\n",
    "msg['From'] = SMTP_USER\n",
    "msg['To'] = SMTP_USER \n",
    "msg['Subject']='제목제목'\n",
    "\n",
    "# 편지지를 편지봉투에 담아준다\n",
    "text = MIMEText(contents)\n",
    "msg.attach(text)"
   ]
  },
  {
   "cell_type": "markdown",
   "metadata": {},
   "source": [
    "첨부파일 추가하기"
   ]
  },
  {
   "cell_type": "code",
   "execution_count": 21,
   "metadata": {},
   "outputs": [],
   "source": [
    "from email.mime.base import MIMEBase\n",
    "from email import encoders\n",
    "\n",
    "from os.path import basename\n",
    "\n",
    "# 파일 담을 공간\n",
    "email_file= MIMEBase('application', 'octet-stream')\n",
    "# 파일 읽어오기\n",
    "with open('./result.xlsx', 'rb') as f:\n",
    "    file_data= f.read()\n",
    "\n",
    "# 파일 데이터를 첨부파일에 담아준다\n",
    "email_file.set_payload(file_data)\n",
    "# base64 인코딩형식으로 인코딩\n",
    "encoders.encode_base64(email_file)\n",
    "\n",
    "file_name= basename('./result.xlsx')\n",
    "\n",
    "email_file.add_header('Content-Disposition', 'attachment', filename=file_name)\n",
    "\n",
    "msg.attach(email_file)"
   ]
  },
  {
   "cell_type": "code",
   "execution_count": 22,
   "metadata": {},
   "outputs": [
    {
     "name": "stdout",
     "output_type": "stream",
     "text": [
      "메일 전송 서버 접속 성공\n",
      "로그인 성공\n",
      "이메일 발송 성공\n",
      "파이널리\n"
     ]
    }
   ],
   "source": [
    "import smtplib\n",
    "\n",
    "try:\n",
    "    # 이메일 전송서버에 접속\n",
    "    smtp = smtplib.SMTP_SSL(SMTP_SERVER, SMTP_PORT)\n",
    "    print('메일 전송 서버 접속 성공')\n",
    "    smtp.login(SMTP_USER,SMTP_PASSWORD)\n",
    "    print('로그인 성공')\n",
    "    # sendmail('보내는 사람', '받는 사람', msg.as_string())\n",
    "    smtp.sendmail(SMTP_USER, 'kty9912@naver.com',msg.as_string())\n",
    "    print('이메일 발송 성공')\n",
    "    \n",
    "except Exception as e:\n",
    "    # 에러났을때 실행할 코드\n",
    "    print('#### 에러 발생 ####')\n",
    "    print(e)\n",
    "    \n",
    "finally:\n",
    "    # 에러 여부 상관없이 무조건 실행할 코드\n",
    "    # smtp 연결 해제\n",
    "    smtp.close()\n",
    "    print('파이널리')"
   ]
  },
  {
   "cell_type": "markdown",
   "metadata": {},
   "source": [
    "실습4"
   ]
  },
  {
   "cell_type": "code",
   "execution_count": 3,
   "metadata": {},
   "outputs": [
    {
     "name": "stdout",
     "output_type": "stream",
     "text": [
      "메일 전송 서버 접속 성공\n",
      "로그인 성공\n",
      "이메일 발송 성공\n",
      "파이널리\n"
     ]
    }
   ],
   "source": [
    "from email.mime.multipart import MIMEMultipart\n",
    "from email.mime.text import MIMEText\n",
    "\n",
    "from email.mime.base import MIMEBase\n",
    "from email import encoders\n",
    "from os.path import basename\n",
    "\n",
    "import smtplib\n",
    "\n",
    "# 이메일 발송을 위한 상수변수들 설정\n",
    "SMTP_SERVER = 'smtp.naver.com'\n",
    "SMTP_PORT = 465\n",
    "SMTP_USER = 'kty9912@naver.com'\n",
    "SMTP_PASSWORD = open('./email_config','r').read().rstrip()\n",
    "\n",
    "\n",
    "# 이메일 발송 함수\n",
    "def send_mail(from_user:str, to_users:list, subject:str, content:str, attachments:list=[], cc_targets=[]) -> bool:\n",
    "    ''' \n",
    "    메일을 발송하는 함수입니다.\n",
    "    \n",
    "    **필수값**\n",
    "    from_user: 보내는 사람의 이메일 주소\n",
    "    to_users: 받는 사람의 이메일 주소들 (list)\n",
    "    subject: 메일 제목\n",
    "    content: 메일 내용\n",
    "\n",
    "    **선택**\n",
    "    attachments: 첨부 파일들 (파일경로 리스트)\n",
    "    cc_targets: 참조 이메일 주소들 (list)\n",
    "    '''\n",
    "    try:\n",
    "        # 이메일 전송서버에 접속\n",
    "        smtp = smtplib.SMTP_SSL(SMTP_SERVER, SMTP_PORT)\n",
    "        print('메일 전송 서버 접속 성공')\n",
    "        smtp.login(SMTP_USER,SMTP_PASSWORD)\n",
    "        print('로그인 성공')\n",
    "\n",
    "        # 편지봉투 만들기\n",
    "        msg = MIMEMultipart('alternative')\n",
    "\n",
    "        # 첨부파일여부\n",
    "        # True : 1, ['result.xlsx'],'a'\n",
    "        # False : 0, [], ''\n",
    "        if attachments:\n",
    "            msg = MIMEMultipart('mixed')\n",
    "\n",
    "            for attachment in attachments:\n",
    "                # 파일 담을 공간 (첨부 파일)\n",
    "                email_file = MIMEBase('application', 'octet-stream')\n",
    "\n",
    "                # 파일 읽어오기\n",
    "                with open(attachment, 'rb') as f:\n",
    "                    file_data = f.read()\n",
    "                \n",
    "                # 파일 데이터를 첨부파일에 담아준다.\n",
    "                email_file.set_payload(file_data)\n",
    "                # base64 인코딩형식으로 인코딩\n",
    "                encoders.encode_base64(email_file)\n",
    "\n",
    "                file_name = basename(attachment)\n",
    "                email_file.add_header('Content-Disposition', 'attachment', filename=file_name)\n",
    "\n",
    "                msg.attach(email_file)\n",
    "        \n",
    "        msg['From'] = from_user\n",
    "        msg['To'] = ','.join(to_users)\n",
    "        if cc_targets:\n",
    "            msg['CC'] = ','.join(cc_targets)\n",
    "        msg['Subject'] = subject\n",
    "\n",
    "        # 편지지를 편지봉투에 담아준다\n",
    "        text = MIMEText(content)\n",
    "        msg.attach(text)\n",
    "\n",
    "        # sendmail('보내는 사람', '받는 사람', msg.as_string())\n",
    "        smtp.sendmail(from_user, 'kty9912@gmail.com',msg.as_string())\n",
    "        print('이메일 발송 성공')\n",
    "\n",
    "        return True\n",
    "        \n",
    "    except Exception as e:\n",
    "        # 에러났을때 실행할 코드\n",
    "        print('#### 에러 발생 ####')\n",
    "        print(e)\n",
    "        \n",
    "    finally:\n",
    "        # 에러 여부 상관없이 무조건 실행할 코드\n",
    "        # smtp 연결 해제\n",
    "        smtp.close()\n",
    "        print('파이널리')\n",
    "    \n",
    "    return False\n",
    "\n",
    "if __name__== '__main__':\n",
    "    send_mail('kty9912@naver.com', \n",
    "    ['kty9912@gmail.com','kty9912@naver.com'], \n",
    "    subject='과거는 과거에', content='이제는 앞으로', \n",
    "    attachments=['./실습5/커리큘럼.xlsx', './result.xlsx'])"
   ]
  }
 ],
 "metadata": {
  "kernelspec": {
   "display_name": "Python 3.10.4 ('study')",
   "language": "python",
   "name": "python3"
  },
  "language_info": {
   "codemirror_mode": {
    "name": "ipython",
    "version": 3
   },
   "file_extension": ".py",
   "mimetype": "text/x-python",
   "name": "python",
   "nbconvert_exporter": "python",
   "pygments_lexer": "ipython3",
   "version": "3.10.4"
  },
  "orig_nbformat": 4,
  "vscode": {
   "interpreter": {
    "hash": "71ed1755ac5addb945195a9db389b37bb4f0aaa318b50b24df22ae6c8eba25ac"
   }
  }
 },
 "nbformat": 4,
 "nbformat_minor": 2
}
