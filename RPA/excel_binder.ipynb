{
 "cells": [
  {
   "cell_type": "markdown",
   "metadata": {},
   "source": [
    "### 해결이 어려우신 분들을 위한 가이드라인\n",
    "\n",
    "1. 엑셀 파일들이 있는 경로 확인 (EXCEL_DIR='')\n",
    "2. 해당 경로의 엑셀 파일들을 가져옴 (os.listdir())\n",
    "3. 빈 엑셀 파일을 만든다. (sheet도 활성화)\n",
    "\n",
    "4. 반복문 시작 (파일들을 하나씩 가져오기)\n",
    "  1. 엑셀파일을 openpyxl.load_workbook()으로 읽음\n",
    "  2. 데이터가 있는 sheet 활성화해서 가져옴\n",
    "  3. 해당 시트의 모든 row를 가져온다. (sheet.iter_rows())\n",
    "  4. 해당 row로 반복문 또 시작\n",
    "    1. row마다 3개 칼럼의 값들을 저장해놓고\n",
    "    2. 활성화한 sheet에 append()로 값들을 넣어준다.\n",
    "\n",
    "5. 엑셀 파일 저장 (excel.save())"
   ]
  },
  {
   "cell_type": "code",
   "execution_count": 2,
   "metadata": {},
   "outputs": [
    {
     "data": {
      "text/plain": [
       "['2017.12.1.xlsx',\n",
       " '2017.12.2.xlsx',\n",
       " '2017.12.3.xlsx',\n",
       " '2017.12.4.xlsx',\n",
       " '2017.12.5.xlsx',\n",
       " '2017.12.6.xlsx',\n",
       " '2017.12.7.xlsx',\n",
       " '2017.12.8.xlsx',\n",
       " '2017.12.9.xlsx']"
      ]
     },
     "execution_count": 2,
     "metadata": {},
     "output_type": "execute_result"
    }
   ],
   "source": [
    "# 1. 엑셀 파일들이 있는 경로 확인 (EXCEL_DIR='')\n",
    "# 2. 해당 경로의 엑셀 파일들을 가져옴 (os.listdir())\n",
    "import os\n",
    "EXCEL_DIR = './실습3/'\n",
    "xlsx_list = os.listdir(EXCEL_DIR)\n",
    "xlsx_list"
   ]
  },
  {
   "cell_type": "code",
   "execution_count": 3,
   "metadata": {},
   "outputs": [],
   "source": [
    "# 3. 빈 엑셀 파일을 만든다. (sheet도 활성화)\n",
    "import openpyxl\n",
    "binder_excel = openpyxl.Workbook()\n",
    "new_sheet = binder_excel.active # 'Sheet'\n",
    "\n",
    "# .iter_rows 엑셀 파일마다 row 개수가 다름"
   ]
  },
  {
   "cell_type": "code",
   "execution_count": 4,
   "metadata": {},
   "outputs": [],
   "source": [
    "# 4. 반복문 시작 (파일들을 하나씩 가져오기)\n",
    "for excel in xlsx_list:\n",
    "    # 1. 엑셀파일을 openxpyxl.load_workbook()으로 읽음\n",
    "    workbook = openpyxl.load_workbook(EXCEL_DIR + excel)\n",
    "    # 2. 데이터가 있는 sheet 활성화해서 가져옴\n",
    "    data_sheet = workbook.active\n",
    "    # 3. 해당 시트의 모든 row를 가져온다 (sheet.iter_rows())\n",
    "    data_sheet.iter_rows()\n",
    "    \n",
    "    # 4. 해당 row로 반복문 또 시작\n",
    "    for row in data_sheet.iter_rows():\n",
    "        # 1. row마다 3개 칼럼의 값들을 저장해놓고\n",
    "        temp = [row[0].value,row[1].value,row[2].value]\n",
    "        # 2. 활성화한 sheet에 append()로 값들을 넣어준다.\n",
    "        new_sheet.append(temp)\n"
   ]
  },
  {
   "cell_type": "code",
   "execution_count": 5,
   "metadata": {},
   "outputs": [],
   "source": [
    "# 5. 엑셀 파일 저장 (excel.save())\n",
    "binder_excel.save('./result.xlsx')"
   ]
  }
 ],
 "metadata": {
  "kernelspec": {
   "display_name": "Python 3.10.4 ('study')",
   "language": "python",
   "name": "python3"
  },
  "language_info": {
   "codemirror_mode": {
    "name": "ipython",
    "version": 3
   },
   "file_extension": ".py",
   "mimetype": "text/x-python",
   "name": "python",
   "nbconvert_exporter": "python",
   "pygments_lexer": "ipython3",
   "version": "3.10.4"
  },
  "orig_nbformat": 4,
  "vscode": {
   "interpreter": {
    "hash": "71ed1755ac5addb945195a9db389b37bb4f0aaa318b50b24df22ae6c8eba25ac"
   }
  }
 },
 "nbformat": 4,
 "nbformat_minor": 2
}
