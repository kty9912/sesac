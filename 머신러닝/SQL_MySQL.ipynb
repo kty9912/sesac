{
 "cells": [
  {
   "cell_type": "code",
   "execution_count": 4,
   "metadata": {},
   "outputs": [
    {
     "data": {
      "text/plain": [
       "0"
      ]
     },
     "execution_count": 4,
     "metadata": {},
     "output_type": "execute_result"
    }
   ],
   "source": [
    "###############################\n",
    "#  MySQL + Python\n",
    "#  create table\n",
    "#  Create by shamantha\n",
    "###############################\n",
    "\n",
    "import pymysql\n",
    "\n",
    "# 전역변수 선언부\n",
    "corn, cur = None, None\n",
    "data1, data2, data3, data4 = \"\",\"\",\"\",\"\"\n",
    "sql=\"\"\n",
    "\n",
    "# 메인 코드\n",
    "corn = pymysql.connect(host='Localhost',user='root', password='967245',db='shoppingDB',charset='utf8')\n",
    "cur = corn.cursor()\n",
    "\n",
    "cur.execute(\"CREATE TABLE IF NOT EXISTS userTable (id char(4), userName \\\n",
    "            char(15), email char(20), birthYear int)\")\n"
   ]
  },
  {
   "cell_type": "code",
   "execution_count": 6,
   "metadata": {},
   "outputs": [],
   "source": [
    "import pymysql\n",
    "# 전역변수 선언부\n",
    "conn, cur = None, None\n",
    "data1, data2, data3, data4 = \"\", \"\", \"\", \"\"\n",
    "sql=\"\"\n",
    "# 메인 코드\n",
    "conn = pymysql.connect(host='Localhost', user='root', password='967245', db='shoppingDB', charset='utf8')\n",
    "cur = conn.cursor()\n",
    "cur.execute(\"INSERT INTO userTable VALUES('john', 'John Bann', 'john@naver.com', 1990)\")\n",
    "cur.execute(\"INSERT INTO userTable VALUES('kim', 'kim mike', 'kim@naver.com', 1980)\")\n",
    "cur.execute(\"INSERT INTO userTable VALUES('park', 'park minseo', 'park@naver.com', 2000)\")\n",
    "conn.commit()\n",
    "conn.close()"
   ]
  },
  {
   "cell_type": "code",
   "execution_count": 7,
   "metadata": {},
   "outputs": [
    {
     "name": "stdout",
     "output_type": "stream",
     "text": [
      "사용자ID    사용자이름    이메일        출생연도\n",
      "----------------------------------------------------\n",
      " john         John Bann    john@naver.com   1990\n",
      "  kim          kim mike     kim@naver.com   1980\n",
      " park       park minseo    park@naver.com   2000\n"
     ]
    }
   ],
   "source": [
    "import pymysql\n",
    "# 전역변수 선언부\n",
    "con, cur = None, None\n",
    "data1, data2, data3, data4 = \"\", \"\", \"\", \"\"\n",
    "row=None\n",
    "# 메인 코드\n",
    "conn = pymysql.connect(host='Localhost', user='root', password='967245', db='shoppingDB', charset='utf8')\n",
    "cur = conn.cursor()\n",
    "cur.execute(\"SELECT * FROM userTable\")\n",
    "print(\"사용자ID    사용자이름    이메일        출생연도\")\n",
    "print(\"----------------------------------------------------\")\n",
    "while (True) :\n",
    "    row = cur.fetchone()\n",
    "    if row== None :\n",
    "        break\n",
    "    data1 = row[0]\n",
    "    data2 = row[1]\n",
    "    data3 = row[2]\n",
    "    data4 = row[3]\n",
    "    print(\"%5s   %15s   %15s   %d\" % (data1, data2, data3, data4))\n",
    "conn.close()"
   ]
  },
  {
   "cell_type": "code",
   "execution_count": 9,
   "metadata": {},
   "outputs": [],
   "source": [
    "import csv\n",
    "import pymysql\n",
    "\n",
    "conn = pymysql.connect(host='Localhost', user='root', password='967245', db='shoppingDB',charset='utf8')\n",
    "cur = conn.cursor()\n",
    "\n",
    "f = open('./data/data.csv','r')  # csv 파일이 utf8로 인코딩이 되어 있을때\n",
    "csvReader = list(csv.reader(f))\n",
    "\n",
    "cur.execute(\"CREATE TABLE IF NOT EXISTS sba (name char(10), sex char(1), class char(1), attend char(1))\")\n",
    "for data in csvReader[1:]: # csv 파일에 column명이 있다면 csvReader[1:]로 설정하고 하면 된다.\n",
    "    row1 = data[0]\n",
    "    row2 = data[1]\n",
    "    row3 = data[2]\n",
    "    row4 = data[3]\n",
    "    sql = \"\"\"insert into sba (name, sex, class, attend) values(%s, %s, %s, %s);\"\"\"\n",
    "    cur.execute(sql, (row1, row2, row3, row4))\n",
    "f.close()\n",
    "conn.commit()"
   ]
  }
 ],
 "metadata": {
  "kernelspec": {
   "display_name": "Python 3.7.13 ('myenv')",
   "language": "python",
   "name": "python3"
  },
  "language_info": {
   "codemirror_mode": {
    "name": "ipython",
    "version": 3
   },
   "file_extension": ".py",
   "mimetype": "text/x-python",
   "name": "python",
   "nbconvert_exporter": "python",
   "pygments_lexer": "ipython3",
   "version": "3.7.13"
  },
  "orig_nbformat": 4,
  "vscode": {
   "interpreter": {
    "hash": "38e929c295fa45ef226dc2c6b5a22f268b14deaeb3da66f4da9880123a9b9116"
   }
  }
 },
 "nbformat": 4,
 "nbformat_minor": 2
}
