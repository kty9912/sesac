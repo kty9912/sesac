{
 "cells": [
  {
   "cell_type": "markdown",
   "metadata": {},
   "source": [
    "## 데이터 준비"
   ]
  },
  {
   "cell_type": "code",
   "execution_count": 1,
   "metadata": {},
   "outputs": [],
   "source": [
    "import pandas as pd\n",
    "df = pd.read_csv('imdb.zip')"
   ]
  },
  {
   "cell_type": "code",
   "execution_count": 2,
   "metadata": {},
   "outputs": [
    {
     "data": {
      "text/html": [
       "<div>\n",
       "<style scoped>\n",
       "    .dataframe tbody tr th:only-of-type {\n",
       "        vertical-align: middle;\n",
       "    }\n",
       "\n",
       "    .dataframe tbody tr th {\n",
       "        vertical-align: top;\n",
       "    }\n",
       "\n",
       "    .dataframe thead th {\n",
       "        text-align: right;\n",
       "    }\n",
       "</style>\n",
       "<table border=\"1\" class=\"dataframe\">\n",
       "  <thead>\n",
       "    <tr style=\"text-align: right;\">\n",
       "      <th></th>\n",
       "      <th>review</th>\n",
       "      <th>sentiment</th>\n",
       "    </tr>\n",
       "  </thead>\n",
       "  <tbody>\n",
       "    <tr>\n",
       "      <th>0</th>\n",
       "      <td>A very, very, very slow-moving, aimless movie ...</td>\n",
       "      <td>0</td>\n",
       "    </tr>\n",
       "    <tr>\n",
       "      <th>1</th>\n",
       "      <td>Not sure who was more lost - the flat characte...</td>\n",
       "      <td>0</td>\n",
       "    </tr>\n",
       "    <tr>\n",
       "      <th>2</th>\n",
       "      <td>Attempting artiness with black &amp; white and cle...</td>\n",
       "      <td>0</td>\n",
       "    </tr>\n",
       "    <tr>\n",
       "      <th>3</th>\n",
       "      <td>Very little music or anything to speak of.</td>\n",
       "      <td>0</td>\n",
       "    </tr>\n",
       "    <tr>\n",
       "      <th>4</th>\n",
       "      <td>The best scene in the movie was when Gerardo i...</td>\n",
       "      <td>1</td>\n",
       "    </tr>\n",
       "  </tbody>\n",
       "</table>\n",
       "</div>"
      ],
      "text/plain": [
       "                                              review  sentiment\n",
       "0  A very, very, very slow-moving, aimless movie ...          0\n",
       "1  Not sure who was more lost - the flat characte...          0\n",
       "2  Attempting artiness with black & white and cle...          0\n",
       "3         Very little music or anything to speak of.          0\n",
       "4  The best scene in the movie was when Gerardo i...          1"
      ]
     },
     "execution_count": 2,
     "metadata": {},
     "output_type": "execute_result"
    }
   ],
   "source": [
    "df.head()"
   ]
  },
  {
   "cell_type": "code",
   "execution_count": 3,
   "metadata": {},
   "outputs": [],
   "source": [
    "import joblib\n",
    "tk = joblib.load('tokenizer.pkl')"
   ]
  },
  {
   "cell_type": "code",
   "execution_count": 4,
   "metadata": {},
   "outputs": [],
   "source": [
    "from sklearn.model_selection import train_test_split\n",
    "review_train, review_test, y_train, y_test = train_test_split(df['review'],\\\n",
    "                            df['sentiment'], test_size=0.2, random_state=42)"
   ]
  },
  {
   "cell_type": "code",
   "execution_count": 5,
   "metadata": {},
   "outputs": [],
   "source": [
    "# 토큰화한다\n",
    "seqs = tk.texts_to_sequences(review_train)"
   ]
  },
  {
   "cell_type": "code",
   "execution_count": 6,
   "metadata": {},
   "outputs": [
    {
     "data": {
      "text/plain": [
       "'It is an insane game.'"
      ]
     },
     "execution_count": 6,
     "metadata": {},
     "output_type": "execute_result"
    }
   ],
   "source": [
    "review_train.iloc[0]"
   ]
  },
  {
   "cell_type": "code",
   "execution_count": 7,
   "metadata": {},
   "outputs": [
    {
     "data": {
      "text/plain": [
       "[9, 6, 33, 1258, 214]"
      ]
     },
     "execution_count": 7,
     "metadata": {},
     "output_type": "execute_result"
    }
   ],
   "source": [
    "seqs[0]"
   ]
  },
  {
   "cell_type": "code",
   "execution_count": 8,
   "metadata": {},
   "outputs": [
    {
     "data": {
      "text/plain": [
       "[[9, 6, 33, 1258, 214],\n",
       " [178, 5, 28, 35, 23, 168, 713, 591, 3, 713, 1, 10, 1, 280],\n",
       " [206, 336, 4]]"
      ]
     },
     "execution_count": 8,
     "metadata": {},
     "output_type": "execute_result"
    }
   ],
   "source": [
    "seqs[:3]"
   ]
  },
  {
   "cell_type": "markdown",
   "metadata": {},
   "source": [
    "## 순방향 순환신경망"
   ]
  },
  {
   "cell_type": "code",
   "execution_count": 9,
   "metadata": {},
   "outputs": [],
   "source": [
    "import tensorflow as tf"
   ]
  },
  {
   "cell_type": "code",
   "execution_count": 10,
   "metadata": {},
   "outputs": [],
   "source": [
    "# maxlen : None(기본값), 10 : 10으로 문장의 길이를 잘라서 패딩처리\n",
    "# padding : pre(기본값), post(뒤쪽에 0 패딩처리), pre 권장\n",
    "# truncating : pre(기본값), maxlen 값이 설정이 되야지 동작,성능 테스트 후 적당한걸 선택 \n",
    "pads = tf.keras.preprocessing.sequence.pad_sequences(seqs, maxlen=None,\\\n",
    "                            padding='pre', truncating='pre')"
   ]
  },
  {
   "cell_type": "code",
   "execution_count": 11,
   "metadata": {},
   "outputs": [
    {
     "data": {
      "text/plain": [
       "(800, (800, 73))"
      ]
     },
     "execution_count": 11,
     "metadata": {},
     "output_type": "execute_result"
    }
   ],
   "source": [
    "len(pads), pads.shape"
   ]
  },
  {
   "cell_type": "code",
   "execution_count": 12,
   "metadata": {},
   "outputs": [],
   "source": [
    "NUM_WORDS= tk.num_words + 1"
   ]
  },
  {
   "cell_type": "markdown",
   "metadata": {},
   "source": [
    "## 순방향 순환신경망"
   ]
  },
  {
   "cell_type": "code",
   "execution_count": 13,
   "metadata": {},
   "outputs": [],
   "source": [
    "model = tf.keras.Sequential([\n",
    "    tf.keras.layers.Embedding(NUM_WORDS, 8, mask_zero=True),\n",
    "    tf.keras.layers.LSTM(8),\n",
    "    tf.keras.layers.Dense(1, activation='sigmoid')\n",
    "    ])"
   ]
  },
  {
   "cell_type": "code",
   "execution_count": 14,
   "metadata": {},
   "outputs": [
    {
     "name": "stdout",
     "output_type": "stream",
     "text": [
      "Model: \"sequential\"\n",
      "_________________________________________________________________\n",
      " Layer (type)                Output Shape              Param #   \n",
      "=================================================================\n",
      " embedding (Embedding)       (None, None, 8)           16008     \n",
      "                                                                 \n",
      " lstm (LSTM)                 (None, 8)                 544       \n",
      "                                                                 \n",
      " dense (Dense)               (None, 1)                 9         \n",
      "                                                                 \n",
      "=================================================================\n",
      "Total params: 16,561\n",
      "Trainable params: 16,561\n",
      "Non-trainable params: 0\n",
      "_________________________________________________________________\n"
     ]
    }
   ],
   "source": [
    "model.summary()"
   ]
  },
  {
   "cell_type": "code",
   "execution_count": 15,
   "metadata": {},
   "outputs": [],
   "source": [
    "model.compile(loss='binary_crossentropy', optimizer='adam', metrics=['accuracy'])"
   ]
  },
  {
   "cell_type": "code",
   "execution_count": 16,
   "metadata": {},
   "outputs": [
    {
     "name": "stdout",
     "output_type": "stream",
     "text": [
      "Epoch 1/10\n",
      "25/25 [==============================] - 2s 10ms/step - loss: 0.6920 - accuracy: 0.5575\n",
      "Epoch 2/10\n",
      "25/25 [==============================] - 0s 10ms/step - loss: 0.6864 - accuracy: 0.7312\n",
      "Epoch 3/10\n",
      "25/25 [==============================] - 0s 10ms/step - loss: 0.6713 - accuracy: 0.7912\n",
      "Epoch 4/10\n",
      "25/25 [==============================] - 0s 10ms/step - loss: 0.6222 - accuracy: 0.8125\n",
      "Epoch 5/10\n",
      "25/25 [==============================] - 0s 10ms/step - loss: 0.4878 - accuracy: 0.8600\n",
      "Epoch 6/10\n",
      "25/25 [==============================] - 0s 11ms/step - loss: 0.3819 - accuracy: 0.8838\n",
      "Epoch 7/10\n",
      "25/25 [==============================] - 0s 11ms/step - loss: 0.3012 - accuracy: 0.9300\n",
      "Epoch 8/10\n",
      "25/25 [==============================] - 0s 10ms/step - loss: 0.2438 - accuracy: 0.9500\n",
      "Epoch 9/10\n",
      "25/25 [==============================] - 0s 10ms/step - loss: 0.1981 - accuracy: 0.9688\n",
      "Epoch 10/10\n",
      "25/25 [==============================] - 0s 10ms/step - loss: 0.1630 - accuracy: 0.9737\n"
     ]
    },
    {
     "data": {
      "text/plain": [
       "<keras.callbacks.History at 0x1e67e339300>"
      ]
     },
     "execution_count": 16,
     "metadata": {},
     "output_type": "execute_result"
    }
   ],
   "source": [
    "model.fit(pads, y_train.values, epochs=10)"
   ]
  },
  {
   "cell_type": "markdown",
   "metadata": {},
   "source": [
    "## 역방향 순환신경망"
   ]
  },
  {
   "cell_type": "markdown",
   "metadata": {},
   "source": [
    "### pre padding 적용"
   ]
  },
  {
   "cell_type": "code",
   "execution_count": 17,
   "metadata": {},
   "outputs": [],
   "source": [
    "# 패딩을 post로 처리하는 것이 좋음, 순방향일 경우는 pre로 처리하는 것을 권장\n",
    "model = tf.keras.Sequential([\n",
    "    tf.keras.layers.Embedding(NUM_WORDS, 8, mask_zero=True),\n",
    "    tf.keras.layers.LSTM(8, go_backwards=True),\n",
    "    tf.keras.layers.Dense(1, activation='sigmoid')\n",
    "])"
   ]
  },
  {
   "cell_type": "code",
   "execution_count": 18,
   "metadata": {},
   "outputs": [],
   "source": [
    "model.compile(loss='binary_crossentropy', optimizer='adam', metrics=['accuracy'])"
   ]
  },
  {
   "cell_type": "code",
   "execution_count": 19,
   "metadata": {},
   "outputs": [
    {
     "name": "stdout",
     "output_type": "stream",
     "text": [
      "Epoch 1/10\n",
      "25/25 [==============================] - 2s 11ms/step - loss: 0.6920 - accuracy: 0.5200\n",
      "Epoch 2/10\n",
      "25/25 [==============================] - 0s 10ms/step - loss: 0.6875 - accuracy: 0.6137\n",
      "Epoch 3/10\n",
      "25/25 [==============================] - 0s 10ms/step - loss: 0.6777 - accuracy: 0.7275\n",
      "Epoch 4/10\n",
      "25/25 [==============================] - 0s 10ms/step - loss: 0.6470 - accuracy: 0.7925\n",
      "Epoch 5/10\n",
      "25/25 [==============================] - 0s 10ms/step - loss: 0.5432 - accuracy: 0.8537\n",
      "Epoch 6/10\n",
      "25/25 [==============================] - 0s 10ms/step - loss: 0.4188 - accuracy: 0.8888\n",
      "Epoch 7/10\n",
      "25/25 [==============================] - 0s 10ms/step - loss: 0.3401 - accuracy: 0.9112\n",
      "Epoch 8/10\n",
      "25/25 [==============================] - 0s 10ms/step - loss: 0.2713 - accuracy: 0.9388\n",
      "Epoch 9/10\n",
      "25/25 [==============================] - 0s 10ms/step - loss: 0.2581 - accuracy: 0.9362\n",
      "Epoch 10/10\n",
      "25/25 [==============================] - 0s 10ms/step - loss: 0.2289 - accuracy: 0.9550\n"
     ]
    },
    {
     "data": {
      "text/plain": [
       "<keras.callbacks.History at 0x1e67f5a2d40>"
      ]
     },
     "execution_count": 19,
     "metadata": {},
     "output_type": "execute_result"
    }
   ],
   "source": [
    "model.fit(pads, y_train.values, epochs=10)"
   ]
  },
  {
   "cell_type": "markdown",
   "metadata": {},
   "source": [
    "### post padding 적용"
   ]
  },
  {
   "cell_type": "code",
   "execution_count": 20,
   "metadata": {},
   "outputs": [],
   "source": [
    "pads = tf.keras.preprocessing.sequence.pad_sequences(seqs, padding='post')"
   ]
  },
  {
   "cell_type": "code",
   "execution_count": 21,
   "metadata": {},
   "outputs": [],
   "source": [
    "model = tf.keras.Sequential([\n",
    "    tf.keras.layers.Embedding(NUM_WORDS, 8, mask_zero=True),\n",
    "    tf.keras.layers.LSTM(8, go_backwards=True),\n",
    "    tf.keras.layers.Dense(1, activation='sigmoid')\n",
    "])"
   ]
  },
  {
   "cell_type": "code",
   "execution_count": 22,
   "metadata": {},
   "outputs": [],
   "source": [
    "model.compile(loss='binary_crossentropy', optimizer='adam', metrics=['accuracy'])"
   ]
  },
  {
   "cell_type": "code",
   "execution_count": 23,
   "metadata": {},
   "outputs": [
    {
     "name": "stdout",
     "output_type": "stream",
     "text": [
      "Epoch 1/10\n",
      "25/25 [==============================] - 2s 10ms/step - loss: 0.6929 - accuracy: 0.5038\n",
      "Epoch 2/10\n",
      "25/25 [==============================] - 0s 10ms/step - loss: 0.6883 - accuracy: 0.6687\n",
      "Epoch 3/10\n",
      "25/25 [==============================] - 0s 10ms/step - loss: 0.6756 - accuracy: 0.7525\n",
      "Epoch 4/10\n",
      "25/25 [==============================] - 0s 10ms/step - loss: 0.6261 - accuracy: 0.7925\n",
      "Epoch 5/10\n",
      "25/25 [==============================] - 0s 10ms/step - loss: 0.5299 - accuracy: 0.8512\n",
      "Epoch 6/10\n",
      "25/25 [==============================] - 0s 10ms/step - loss: 0.4262 - accuracy: 0.8888\n",
      "Epoch 7/10\n",
      "25/25 [==============================] - 0s 10ms/step - loss: 0.3443 - accuracy: 0.9262\n",
      "Epoch 8/10\n",
      "25/25 [==============================] - 0s 10ms/step - loss: 0.2754 - accuracy: 0.9425\n",
      "Epoch 9/10\n",
      "25/25 [==============================] - 0s 10ms/step - loss: 0.2671 - accuracy: 0.9350\n",
      "Epoch 10/10\n",
      "25/25 [==============================] - 0s 10ms/step - loss: 0.2388 - accuracy: 0.9463\n"
     ]
    },
    {
     "data": {
      "text/plain": [
       "<keras.callbacks.History at 0x1e60f09ead0>"
      ]
     },
     "execution_count": 23,
     "metadata": {},
     "output_type": "execute_result"
    }
   ],
   "source": [
    "model.fit(pads, y_train.values, epochs=10)"
   ]
  },
  {
   "cell_type": "markdown",
   "metadata": {},
   "source": [
    "## 양방향 순환신경망"
   ]
  },
  {
   "cell_type": "code",
   "execution_count": 24,
   "metadata": {},
   "outputs": [],
   "source": [
    "model = tf.keras.Sequential([\n",
    "    tf.keras.layers.Embedding(NUM_WORDS, 8, mask_zero=True),\n",
    "    tf.keras.layers.Bidirectional(tf.keras.layers.LSTM(8)),\n",
    "    tf.keras.layers.Dense(1, activation='sigmoid')\n",
    "])"
   ]
  },
  {
   "cell_type": "code",
   "execution_count": 25,
   "metadata": {},
   "outputs": [
    {
     "name": "stdout",
     "output_type": "stream",
     "text": [
      "Model: \"sequential_3\"\n",
      "_________________________________________________________________\n",
      " Layer (type)                Output Shape              Param #   \n",
      "=================================================================\n",
      " embedding_3 (Embedding)     (None, None, 8)           16008     \n",
      "                                                                 \n",
      " bidirectional (Bidirectiona  (None, 16)               1088      \n",
      " l)                                                              \n",
      "                                                                 \n",
      " dense_3 (Dense)             (None, 1)                 17        \n",
      "                                                                 \n",
      "=================================================================\n",
      "Total params: 17,113\n",
      "Trainable params: 17,113\n",
      "Non-trainable params: 0\n",
      "_________________________________________________________________\n"
     ]
    }
   ],
   "source": [
    "model.summary()"
   ]
  },
  {
   "cell_type": "code",
   "execution_count": 29,
   "metadata": {},
   "outputs": [],
   "source": [
    "model.compile(loss='binary_crossentropy', optimizer='adam', metrics=['accuracy'])"
   ]
  },
  {
   "cell_type": "code",
   "execution_count": 30,
   "metadata": {},
   "outputs": [
    {
     "name": "stdout",
     "output_type": "stream",
     "text": [
      "Epoch 1/10\n",
      "25/25 [==============================] - 4s 12ms/step - loss: 0.6930 - accuracy: 0.4925\n",
      "Epoch 2/10\n",
      "25/25 [==============================] - 0s 11ms/step - loss: 0.6869 - accuracy: 0.7300\n",
      "Epoch 3/10\n",
      "25/25 [==============================] - 0s 11ms/step - loss: 0.6733 - accuracy: 0.7850\n",
      "Epoch 4/10\n",
      "25/25 [==============================] - 0s 11ms/step - loss: 0.6219 - accuracy: 0.8087\n",
      "Epoch 5/10\n",
      "25/25 [==============================] - 0s 11ms/step - loss: 0.4981 - accuracy: 0.8637\n",
      "Epoch 6/10\n",
      "25/25 [==============================] - 0s 12ms/step - loss: 0.3422 - accuracy: 0.9112\n",
      "Epoch 7/10\n",
      "25/25 [==============================] - 0s 11ms/step - loss: 0.2432 - accuracy: 0.9400\n",
      "Epoch 8/10\n",
      "25/25 [==============================] - 0s 11ms/step - loss: 0.1920 - accuracy: 0.9600\n",
      "Epoch 9/10\n",
      "25/25 [==============================] - 0s 11ms/step - loss: 0.1688 - accuracy: 0.9613\n",
      "Epoch 10/10\n",
      "25/25 [==============================] - 0s 11ms/step - loss: 0.1319 - accuracy: 0.9675\n"
     ]
    },
    {
     "data": {
      "text/plain": [
       "<keras.callbacks.History at 0x1e61649e4d0>"
      ]
     },
     "execution_count": 30,
     "metadata": {},
     "output_type": "execute_result"
    }
   ],
   "source": [
    "model.fit(pads, y_train.values, epochs=10)"
   ]
  },
  {
   "cell_type": "code",
   "execution_count": null,
   "metadata": {},
   "outputs": [],
   "source": []
  }
 ],
 "metadata": {
  "kernelspec": {
   "display_name": "study",
   "language": "python",
   "name": "study"
  },
  "language_info": {
   "codemirror_mode": {
    "name": "ipython",
    "version": 3
   },
   "file_extension": ".py",
   "mimetype": "text/x-python",
   "name": "python",
   "nbconvert_exporter": "python",
   "pygments_lexer": "ipython3",
   "version": "3.10.4"
  },
  "orig_nbformat": 4,
  "vscode": {
   "interpreter": {
    "hash": "e99cd6124d1454c43974c193ef05ef59cc7820eb47b987c9c9e53e57b79f92b9"
   }
  }
 },
 "nbformat": 4,
 "nbformat_minor": 2
}
