{
 "cells": [
  {
   "cell_type": "markdown",
   "metadata": {},
   "source": [
    "## 데이터 받기"
   ]
  },
  {
   "cell_type": "code",
   "execution_count": 1,
   "metadata": {},
   "outputs": [],
   "source": [
    "import requests\n",
    "\n",
    "res = requests.get('https://github.com/euphoris/datasets/raw/master/imdb.zip')\n",
    "\n",
    "with open('imdb.zip','wb') as f:\n",
    "    f.write(res.content)"
   ]
  },
  {
   "cell_type": "code",
   "execution_count": 1,
   "metadata": {},
   "outputs": [],
   "source": [
    "import pandas as pd\n",
    "df = pd.read_csv('imdb.zip')"
   ]
  },
  {
   "cell_type": "code",
   "execution_count": 2,
   "metadata": {},
   "outputs": [
    {
     "data": {
      "text/html": [
       "<div>\n",
       "<style scoped>\n",
       "    .dataframe tbody tr th:only-of-type {\n",
       "        vertical-align: middle;\n",
       "    }\n",
       "\n",
       "    .dataframe tbody tr th {\n",
       "        vertical-align: top;\n",
       "    }\n",
       "\n",
       "    .dataframe thead th {\n",
       "        text-align: right;\n",
       "    }\n",
       "</style>\n",
       "<table border=\"1\" class=\"dataframe\">\n",
       "  <thead>\n",
       "    <tr style=\"text-align: right;\">\n",
       "      <th></th>\n",
       "      <th>review</th>\n",
       "      <th>sentiment</th>\n",
       "    </tr>\n",
       "  </thead>\n",
       "  <tbody>\n",
       "    <tr>\n",
       "      <th>0</th>\n",
       "      <td>A very, very, very slow-moving, aimless movie ...</td>\n",
       "      <td>0</td>\n",
       "    </tr>\n",
       "    <tr>\n",
       "      <th>1</th>\n",
       "      <td>Not sure who was more lost - the flat characte...</td>\n",
       "      <td>0</td>\n",
       "    </tr>\n",
       "    <tr>\n",
       "      <th>2</th>\n",
       "      <td>Attempting artiness with black &amp; white and cle...</td>\n",
       "      <td>0</td>\n",
       "    </tr>\n",
       "    <tr>\n",
       "      <th>3</th>\n",
       "      <td>Very little music or anything to speak of.</td>\n",
       "      <td>0</td>\n",
       "    </tr>\n",
       "    <tr>\n",
       "      <th>4</th>\n",
       "      <td>The best scene in the movie was when Gerardo i...</td>\n",
       "      <td>1</td>\n",
       "    </tr>\n",
       "    <tr>\n",
       "      <th>...</th>\n",
       "      <td>...</td>\n",
       "      <td>...</td>\n",
       "    </tr>\n",
       "    <tr>\n",
       "      <th>995</th>\n",
       "      <td>I just got bored watching Jessice Lange take h...</td>\n",
       "      <td>0</td>\n",
       "    </tr>\n",
       "    <tr>\n",
       "      <th>996</th>\n",
       "      <td>Unfortunately, any virtue in this film's produ...</td>\n",
       "      <td>0</td>\n",
       "    </tr>\n",
       "    <tr>\n",
       "      <th>997</th>\n",
       "      <td>In a word, it is embarrassing.</td>\n",
       "      <td>0</td>\n",
       "    </tr>\n",
       "    <tr>\n",
       "      <th>998</th>\n",
       "      <td>Exceptionally bad!</td>\n",
       "      <td>0</td>\n",
       "    </tr>\n",
       "    <tr>\n",
       "      <th>999</th>\n",
       "      <td>All in all its an insult to one's intelligence...</td>\n",
       "      <td>0</td>\n",
       "    </tr>\n",
       "  </tbody>\n",
       "</table>\n",
       "<p>1000 rows × 2 columns</p>\n",
       "</div>"
      ],
      "text/plain": [
       "                                                review  sentiment\n",
       "0    A very, very, very slow-moving, aimless movie ...          0\n",
       "1    Not sure who was more lost - the flat characte...          0\n",
       "2    Attempting artiness with black & white and cle...          0\n",
       "3           Very little music or anything to speak of.          0\n",
       "4    The best scene in the movie was when Gerardo i...          1\n",
       "..                                                 ...        ...\n",
       "995  I just got bored watching Jessice Lange take h...          0\n",
       "996  Unfortunately, any virtue in this film's produ...          0\n",
       "997                     In a word, it is embarrassing.          0\n",
       "998                                 Exceptionally bad!          0\n",
       "999  All in all its an insult to one's intelligence...          0\n",
       "\n",
       "[1000 rows x 2 columns]"
      ]
     },
     "execution_count": 2,
     "metadata": {},
     "output_type": "execute_result"
    }
   ],
   "source": [
    "df"
   ]
  },
  {
   "cell_type": "markdown",
   "metadata": {},
   "source": [
    "## 토큰화"
   ]
  },
  {
   "cell_type": "code",
   "execution_count": 3,
   "metadata": {},
   "outputs": [],
   "source": [
    "import tensorflow as tf\n",
    "\n",
    "tk = tf.keras.preprocessing.text.Tokenizer(num_words=2000, oov_token='<unk>')"
   ]
  },
  {
   "cell_type": "code",
   "execution_count": 4,
   "metadata": {},
   "outputs": [],
   "source": [
    "tk.fit_on_texts(df['review'])"
   ]
  },
  {
   "cell_type": "code",
   "execution_count": 6,
   "metadata": {},
   "outputs": [
    {
     "data": {
      "text/plain": [
       "{'<unk>': 1,\n",
       " 'the': 2,\n",
       " 'and': 3,\n",
       " 'a': 4,\n",
       " 'of': 5,\n",
       " 'is': 6,\n",
       " 'this': 7,\n",
       " 'i': 8,\n",
       " 'it': 9,\n",
       " 'to': 10,\n",
       " 'in': 11,\n",
       " 'was': 12,\n",
       " 'movie': 13,\n",
       " 'film': 14,\n",
       " 'that': 15,\n",
       " 'for': 16,\n",
       " 'as': 17,\n",
       " 'but': 18,\n",
       " 'with': 19,\n",
       " 'one': 20,\n",
       " 'on': 21,\n",
       " 'you': 22,\n",
       " 'are': 23,\n",
       " 'not': 24,\n",
       " 'bad': 25,\n",
       " \"it's\": 26,\n",
       " 'very': 27,\n",
       " 'all': 28,\n",
       " 'just': 29,\n",
       " 'so': 30,\n",
       " 'good': 31,\n",
       " 'at': 32,\n",
       " 'an': 33,\n",
       " 'be': 34,\n",
       " 'there': 35,\n",
       " 'about': 36,\n",
       " 'have': 37,\n",
       " 'by': 38,\n",
       " 'like': 39,\n",
       " 'from': 40,\n",
       " 'if': 41,\n",
       " 'acting': 42,\n",
       " 'time': 43,\n",
       " 'out': 44,\n",
       " 'his': 45,\n",
       " 'or': 46,\n",
       " 'really': 47,\n",
       " 'great': 48,\n",
       " 'even': 49,\n",
       " 'he': 50,\n",
       " 'who': 51,\n",
       " 'were': 52,\n",
       " 'has': 53,\n",
       " 'see': 54,\n",
       " 'my': 55,\n",
       " 'characters': 56,\n",
       " 'well': 57,\n",
       " 'most': 58,\n",
       " 'how': 59,\n",
       " 'more': 60,\n",
       " 'no': 61,\n",
       " 'only': 62,\n",
       " 'when': 63,\n",
       " 'ever': 64,\n",
       " '10': 65,\n",
       " 'movies': 66,\n",
       " 'plot': 67,\n",
       " 'story': 68,\n",
       " 'made': 69,\n",
       " 'some': 70,\n",
       " 'they': 71,\n",
       " 'best': 72,\n",
       " 'because': 73,\n",
       " 'your': 74,\n",
       " 'can': 75,\n",
       " 'also': 76,\n",
       " \"don't\": 77,\n",
       " 'films': 78,\n",
       " 'than': 79,\n",
       " 'its': 80,\n",
       " 'script': 81,\n",
       " 'other': 82,\n",
       " 'character': 83,\n",
       " 'would': 84,\n",
       " 'seen': 85,\n",
       " 'way': 86,\n",
       " 'love': 87,\n",
       " 'make': 88,\n",
       " \"didn't\": 89,\n",
       " 'do': 90,\n",
       " 'me': 91,\n",
       " 'watching': 92,\n",
       " 'her': 93,\n",
       " 'which': 94,\n",
       " 'what': 95,\n",
       " 'up': 96,\n",
       " 'any': 97,\n",
       " 'think': 98,\n",
       " 'real': 99,\n",
       " 'could': 100,\n",
       " 'will': 101,\n",
       " 'had': 102,\n",
       " 'every': 103,\n",
       " 'much': 104,\n",
       " 'work': 105,\n",
       " 'too': 106,\n",
       " 'look': 107,\n",
       " 'funny': 108,\n",
       " 'scenes': 109,\n",
       " 'actors': 110,\n",
       " 'better': 111,\n",
       " 'over': 112,\n",
       " 'cast': 113,\n",
       " 'never': 114,\n",
       " 'wonderful': 115,\n",
       " 'little': 116,\n",
       " 'them': 117,\n",
       " 'into': 118,\n",
       " 'watch': 119,\n",
       " 'show': 120,\n",
       " 'everything': 121,\n",
       " 'excellent': 122,\n",
       " 'anyone': 123,\n",
       " 'their': 124,\n",
       " 'totally': 125,\n",
       " 'both': 126,\n",
       " 'here': 127,\n",
       " 'music': 128,\n",
       " 'scene': 129,\n",
       " 'waste': 130,\n",
       " 'people': 131,\n",
       " 'screen': 132,\n",
       " 'go': 133,\n",
       " 'years': 134,\n",
       " 'nothing': 135,\n",
       " 'stupid': 136,\n",
       " 'awful': 137,\n",
       " 'get': 138,\n",
       " 'know': 139,\n",
       " 'still': 140,\n",
       " 'many': 141,\n",
       " 'man': 142,\n",
       " 'art': 143,\n",
       " 'two': 144,\n",
       " 'right': 145,\n",
       " 'say': 146,\n",
       " 'recommend': 147,\n",
       " 'dialogue': 148,\n",
       " 'worth': 149,\n",
       " 'writing': 150,\n",
       " 'pretty': 151,\n",
       " 'after': 152,\n",
       " 'thing': 153,\n",
       " 'again': 154,\n",
       " 'saw': 155,\n",
       " 'thought': 156,\n",
       " 'those': 157,\n",
       " 'life': 158,\n",
       " 'line': 159,\n",
       " \"doesn't\": 160,\n",
       " 'things': 161,\n",
       " 'interesting': 162,\n",
       " 'been': 163,\n",
       " 'such': 164,\n",
       " 'terrible': 165,\n",
       " 'performance': 166,\n",
       " 'being': 167,\n",
       " 'enough': 168,\n",
       " 'beautiful': 169,\n",
       " 'short': 170,\n",
       " 'part': 171,\n",
       " 'did': 172,\n",
       " 'give': 173,\n",
       " \"can't\": 174,\n",
       " 'worst': 175,\n",
       " \"i've\": 176,\n",
       " 'though': 177,\n",
       " 'first': 178,\n",
       " 'ending': 179,\n",
       " 'should': 180,\n",
       " 'end': 181,\n",
       " 'worse': 182,\n",
       " 'she': 183,\n",
       " 'camera': 184,\n",
       " 'find': 185,\n",
       " 'through': 186,\n",
       " 'predictable': 187,\n",
       " 'loved': 188,\n",
       " 'cinematography': 189,\n",
       " 'quite': 190,\n",
       " 'simply': 191,\n",
       " 'actually': 192,\n",
       " \"i'm\": 193,\n",
       " 'actor': 194,\n",
       " 'feeling': 195,\n",
       " 'now': 196,\n",
       " 'liked': 197,\n",
       " 'piece': 198,\n",
       " 'big': 199,\n",
       " 'going': 200,\n",
       " 'played': 201,\n",
       " 'boring': 202,\n",
       " 'however': 203,\n",
       " 'director': 204,\n",
       " 'between': 205,\n",
       " 'highly': 206,\n",
       " 'off': 207,\n",
       " 'drama': 208,\n",
       " 'black': 209,\n",
       " 'almost': 210,\n",
       " 'lot': 211,\n",
       " 'directing': 212,\n",
       " 'does': 213,\n",
       " 'game': 214,\n",
       " 'play': 215,\n",
       " 'least': 216,\n",
       " 'effects': 217,\n",
       " \"that's\": 218,\n",
       " 'enjoyed': 219,\n",
       " 'absolutely': 220,\n",
       " 'these': 221,\n",
       " 'amazing': 222,\n",
       " 'horror': 223,\n",
       " 'definitely': 224,\n",
       " 'understand': 225,\n",
       " 'watched': 226,\n",
       " 'truly': 227,\n",
       " 'job': 228,\n",
       " 'whole': 229,\n",
       " 'we': 230,\n",
       " 'am': 231,\n",
       " 'special': 232,\n",
       " 'white': 233,\n",
       " 'anything': 234,\n",
       " 'kids': 235,\n",
       " 'long': 236,\n",
       " 'cinema': 237,\n",
       " 'where': 238,\n",
       " 'certainly': 239,\n",
       " 'series': 240,\n",
       " 'kind': 241,\n",
       " 'tv': 242,\n",
       " 'found': 243,\n",
       " 'suspense': 244,\n",
       " 'especially': 245,\n",
       " 'myself': 246,\n",
       " 'then': 247,\n",
       " 'fact': 248,\n",
       " 'believe': 249,\n",
       " 'minutes': 250,\n",
       " \"there's\": 251,\n",
       " 'probably': 252,\n",
       " 'got': 253,\n",
       " 'used': 254,\n",
       " 'done': 255,\n",
       " 'old': 256,\n",
       " 'makes': 257,\n",
       " 'mess': 258,\n",
       " 'avoid': 259,\n",
       " 'sucks': 260,\n",
       " 'lines': 261,\n",
       " 'wasted': 262,\n",
       " 'cool': 263,\n",
       " 'budget': 264,\n",
       " 'together': 265,\n",
       " 'far': 266,\n",
       " \"wasn't\": 267,\n",
       " 'written': 268,\n",
       " 'another': 269,\n",
       " 'playing': 270,\n",
       " 'must': 271,\n",
       " '1': 272,\n",
       " 'experience': 273,\n",
       " 'sucked': 274,\n",
       " 'self': 275,\n",
       " 'john': 276,\n",
       " 'action': 277,\n",
       " 'cheap': 278,\n",
       " 'subtle': 279,\n",
       " 'everyone': 280,\n",
       " 'our': 281,\n",
       " 'around': 282,\n",
       " 'each': 283,\n",
       " 'top': 284,\n",
       " 'garbage': 285,\n",
       " 'comedy': 286,\n",
       " 'slow': 287,\n",
       " 'half': 288,\n",
       " 'disappointed': 289,\n",
       " 'poor': 290,\n",
       " 'lacks': 291,\n",
       " 'casting': 292,\n",
       " 'hilarious': 293,\n",
       " 'editing': 294,\n",
       " 'making': 295,\n",
       " 'perfect': 296,\n",
       " 'history': 297,\n",
       " 'rather': 298,\n",
       " 'money': 299,\n",
       " 'crap': 300,\n",
       " 'flick': 301,\n",
       " 'take': 302,\n",
       " 'family': 303,\n",
       " 'entire': 304,\n",
       " 'whatever': 305,\n",
       " 'having': 306,\n",
       " 'performances': 307,\n",
       " 'believable': 308,\n",
       " 'portrayal': 309,\n",
       " 'annoying': 310,\n",
       " 'gives': 311,\n",
       " 'want': 312,\n",
       " 'classic': 313,\n",
       " 'nice': 314,\n",
       " \"i'd\": 315,\n",
       " 'brilliant': 316,\n",
       " 'rent': 317,\n",
       " 'world': 318,\n",
       " 'why': 319,\n",
       " 'horrible': 320,\n",
       " 'few': 321,\n",
       " 'sound': 322,\n",
       " 'incredible': 323,\n",
       " 'him': 324,\n",
       " 'own': 325,\n",
       " 'mostly': 326,\n",
       " 'holes': 327,\n",
       " 'use': 328,\n",
       " 'human': 329,\n",
       " 'memorable': 330,\n",
       " 'seeing': 331,\n",
       " 'gets': 332,\n",
       " 'throughout': 333,\n",
       " 'second': 334,\n",
       " 'style': 335,\n",
       " 'recommended': 336,\n",
       " 'audience': 337,\n",
       " 'clever': 338,\n",
       " 'ridiculous': 339,\n",
       " 'non': 340,\n",
       " 'works': 341,\n",
       " 'guess': 342,\n",
       " 'bit': 343,\n",
       " 'face': 344,\n",
       " 'low': 345,\n",
       " 'since': 346,\n",
       " 'single': 347,\n",
       " 'put': 348,\n",
       " 'production': 349,\n",
       " '\\x96': 350,\n",
       " 'mind': 351,\n",
       " 'amount': 352,\n",
       " 'strong': 353,\n",
       " 'fun': 354,\n",
       " 'enjoy': 355,\n",
       " 'lame': 356,\n",
       " 'away': 357,\n",
       " 'girl': 358,\n",
       " 'tom': 359,\n",
       " 'often': 360,\n",
       " 'word': 361,\n",
       " 'overall': 362,\n",
       " 'gave': 363,\n",
       " 'terrific': 364,\n",
       " 'same': 365,\n",
       " 'hour': 366,\n",
       " 'joy': 367,\n",
       " 'before': 368,\n",
       " 'oh': 369,\n",
       " 'night': 370,\n",
       " \"couldn't\": 371,\n",
       " 'direction': 372,\n",
       " 'cult': 373,\n",
       " 'times': 374,\n",
       " 'beyond': 375,\n",
       " 'lead': 376,\n",
       " 'silent': 377,\n",
       " 'hitchcock': 378,\n",
       " 'thriller': 379,\n",
       " 'new': 380,\n",
       " 'full': 381,\n",
       " 'completely': 382,\n",
       " 'pathetic': 383,\n",
       " 'talk': 384,\n",
       " 'care': 385,\n",
       " 'fails': 386,\n",
       " 'yet': 387,\n",
       " 'said': 388,\n",
       " 'fans': 389,\n",
       " 'solid': 390,\n",
       " 'felt': 391,\n",
       " 'child': 392,\n",
       " 'day': 393,\n",
       " 'started': 394,\n",
       " 'shot': 395,\n",
       " 'mention': 396,\n",
       " 'year': 397,\n",
       " 'different': 398,\n",
       " 'involved': 399,\n",
       " 'period': 400,\n",
       " \"won't\": 401,\n",
       " 'particularly': 402,\n",
       " 'come': 403,\n",
       " 'superb': 404,\n",
       " 'fine': 405,\n",
       " 'fast': 406,\n",
       " 'moving': 407,\n",
       " 'young': 408,\n",
       " 'lost': 409,\n",
       " 'trying': 410,\n",
       " 'song': 411,\n",
       " 'rest': 412,\n",
       " 'hours': 413,\n",
       " 'adorable': 414,\n",
       " 'songs': 415,\n",
       " 'consider': 416,\n",
       " 'tale': 417,\n",
       " \"i'll\": 418,\n",
       " 'true': 419,\n",
       " 'easily': 420,\n",
       " 'something': 421,\n",
       " 'minute': 422,\n",
       " 'level': 423,\n",
       " 'idea': 424,\n",
       " 'mediocre': 425,\n",
       " 'pg': 426,\n",
       " 'point': 427,\n",
       " 'itself': 428,\n",
       " 'perhaps': 429,\n",
       " 'glad': 430,\n",
       " 'lovely': 431,\n",
       " 'hard': 432,\n",
       " '2': 433,\n",
       " 'let': 434,\n",
       " 'utterly': 435,\n",
       " 'convincing': 436,\n",
       " 'book': 437,\n",
       " 'whether': 438,\n",
       " \"they're\": 439,\n",
       " 'follow': 440,\n",
       " 'energy': 441,\n",
       " 'generally': 442,\n",
       " 'pretentious': 443,\n",
       " 'occasionally': 444,\n",
       " 'try': 445,\n",
       " 'extremely': 446,\n",
       " 'back': 447,\n",
       " 'maybe': 448,\n",
       " 'sometimes': 449,\n",
       " 'during': 450,\n",
       " 'chemistry': 451,\n",
       " 'last': 452,\n",
       " 'unfortunately': 453,\n",
       " 'depth': 454,\n",
       " 'imagination': 455,\n",
       " 'barely': 456,\n",
       " 'storyline': 457,\n",
       " 'keep': 458,\n",
       " 'already': 459,\n",
       " 'attempt': 460,\n",
       " 'down': 461,\n",
       " 'mean': 462,\n",
       " 'us': 463,\n",
       " 'without': 464,\n",
       " 'torture': 465,\n",
       " 'premise': 466,\n",
       " 'seem': 467,\n",
       " 'ups': 468,\n",
       " 'age': 469,\n",
       " 'ray': 470,\n",
       " 'usual': 471,\n",
       " 'living': 472,\n",
       " 'themselves': 473,\n",
       " 'else': 474,\n",
       " 'tell': 475,\n",
       " 'visual': 476,\n",
       " 'plain': 477,\n",
       " 'soundtrack': 478,\n",
       " 'trash': 479,\n",
       " 'came': 480,\n",
       " 'either': 481,\n",
       " 'less': 482,\n",
       " 'hope': 483,\n",
       " 'eyes': 484,\n",
       " 'indeed': 485,\n",
       " 'theater': 486,\n",
       " 'rating': 487,\n",
       " 'three': 488,\n",
       " 'huge': 489,\n",
       " 'intelligence': 490,\n",
       " 'intelligent': 491,\n",
       " 'entertaining': 492,\n",
       " 'bored': 493,\n",
       " 'become': 494,\n",
       " 'roles': 495,\n",
       " 'drago': 496,\n",
       " 'looked': 497,\n",
       " 'parts': 498,\n",
       " 'sets': 499,\n",
       " 'stories': 500,\n",
       " 'created': 501,\n",
       " 'role': 502,\n",
       " 'scamp': 503,\n",
       " 'comes': 504,\n",
       " 'place': 505,\n",
       " 'star': 506,\n",
       " 'always': 507,\n",
       " 'insult': 508,\n",
       " 'death': 509,\n",
       " 'may': 510,\n",
       " 'expect': 511,\n",
       " 'serious': 512,\n",
       " 'original': 513,\n",
       " 'james': 514,\n",
       " 'unbelievable': 515,\n",
       " 'costs': 516,\n",
       " 'small': 517,\n",
       " 'dance': 518,\n",
       " 'beginning': 519,\n",
       " 'appreciate': 520,\n",
       " 'easy': 521,\n",
       " 'sure': 522,\n",
       " 'speak': 523,\n",
       " 'head': 524,\n",
       " 'meaning': 525,\n",
       " 'today': 526,\n",
       " 'showed': 527,\n",
       " 'delivers': 528,\n",
       " 'average': 529,\n",
       " 'main': 530,\n",
       " 'greatest': 531,\n",
       " 'gem': 532,\n",
       " 'sea': 533,\n",
       " 'faux': 534,\n",
       " 'important': 535,\n",
       " 'words': 536,\n",
       " 'yes': 537,\n",
       " 'significant': 538,\n",
       " 'picture': 539,\n",
       " 'graphics': 540,\n",
       " 'massive': 541,\n",
       " 'pure': 542,\n",
       " 'brilliance': 543,\n",
       " 'complete': 544,\n",
       " 'while': 545,\n",
       " 'moment': 546,\n",
       " 'told': 547,\n",
       " 'talented': 548,\n",
       " 'stars': 549,\n",
       " 'hill': 550,\n",
       " 'ed': 551,\n",
       " 'quality': 552,\n",
       " 'obviously': 553,\n",
       " 'addition': 554,\n",
       " 'grace': 555,\n",
       " 'negative': 556,\n",
       " 'pointless': 557,\n",
       " 'children': 558,\n",
       " \"wouldn't\": 559,\n",
       " 'dialog': 560,\n",
       " 'shots': 561,\n",
       " \"aren't\": 562,\n",
       " 'given': 563,\n",
       " 'provoking': 564,\n",
       " 'plus': 565,\n",
       " 'paced': 566,\n",
       " 'wind': 567,\n",
       " 'lion': 568,\n",
       " 'acted': 569,\n",
       " 'decent': 570,\n",
       " 'checking': 571,\n",
       " 'touching': 572,\n",
       " 'looking': 573,\n",
       " 'including': 574,\n",
       " 'embarrassing': 575,\n",
       " 'scenery': 576,\n",
       " 'house': 577,\n",
       " 'wish': 578,\n",
       " 'along': 579,\n",
       " 'happened': 580,\n",
       " 'seems': 581,\n",
       " 'mature': 582,\n",
       " 'episode': 583,\n",
       " 'remake': 584,\n",
       " 'fear': 585,\n",
       " 'nobody': 586,\n",
       " 'conflict': 587,\n",
       " 'incredibly': 588,\n",
       " 'possible': 589,\n",
       " 'whatsoever': 590,\n",
       " 'stereotypes': 591,\n",
       " 'cartoon': 592,\n",
       " 'paul': 593,\n",
       " 'women': 594,\n",
       " 'brain': 595,\n",
       " 'left': 596,\n",
       " 'features': 597,\n",
       " 'presents': 598,\n",
       " 'free': 599,\n",
       " 'screenwriter': 600,\n",
       " 'close': 601,\n",
       " 'seemed': 602,\n",
       " \"you'll\": 603,\n",
       " 'indulgent': 604,\n",
       " 'spent': 605,\n",
       " \"isn't\": 606,\n",
       " 'charles': 607,\n",
       " 'remember': 608,\n",
       " 'working': 609,\n",
       " 'attention': 610,\n",
       " 'singing': 611,\n",
       " 'etc': 612,\n",
       " 'bore': 613,\n",
       " 'dancing': 614,\n",
       " 'dvd': 615,\n",
       " 'might': 616,\n",
       " 'theme': 617,\n",
       " 'aerial': 618,\n",
       " 'interest': 619,\n",
       " 'narrative': 620,\n",
       " 'actress': 621,\n",
       " 'called': 622,\n",
       " 'spoilers': 623,\n",
       " 'stunning': 624,\n",
       " 'fx': 625,\n",
       " 'note': 626,\n",
       " 'surprisingly': 627,\n",
       " 'released': 628,\n",
       " 'ranks': 629,\n",
       " 'journey': 630,\n",
       " 'location': 631,\n",
       " 'thoroughly': 632,\n",
       " 'turn': 633,\n",
       " 'memories': 634,\n",
       " 'places': 635,\n",
       " 'billy': 636,\n",
       " 'possibly': 637,\n",
       " 'trilogy': 638,\n",
       " 'favourite': 639,\n",
       " 'awesome': 640,\n",
       " 'earlier': 641,\n",
       " 'directed': 642,\n",
       " 'someone': 643,\n",
       " 'sense': 644,\n",
       " 'games': 645,\n",
       " 'genuine': 646,\n",
       " 'smart': 647,\n",
       " \"haven't\": 648,\n",
       " 'particular': 649,\n",
       " 'stage': 650,\n",
       " 'next': 651,\n",
       " '8': 652,\n",
       " 'super': 653,\n",
       " 'wonderfully': 654,\n",
       " 'actresses': 655,\n",
       " 'exactly': 656,\n",
       " 'shows': 657,\n",
       " 'drive': 658,\n",
       " 'scared': 659,\n",
       " 'enjoyable': 660,\n",
       " 'bought': 661,\n",
       " '90': 662,\n",
       " 'god': 663,\n",
       " 'effective': 664,\n",
       " 'set': 665,\n",
       " 'learn': 666,\n",
       " 'values': 667,\n",
       " 'photography': 668,\n",
       " 'ruthless': 669,\n",
       " 'although': 670,\n",
       " 'war': 671,\n",
       " 'type': 672,\n",
       " 'example': 673,\n",
       " 'feel': 674,\n",
       " 'seriously': 675,\n",
       " 'ready': 676,\n",
       " 'fan': 677,\n",
       " 'angel': 678,\n",
       " 'under': 679,\n",
       " 'coming': 680,\n",
       " '20': 681,\n",
       " 'charming': 682,\n",
       " 'clichés': 683,\n",
       " 'thrown': 684,\n",
       " 'reason': 685,\n",
       " 'scale': 686,\n",
       " 'problems': 687,\n",
       " 'score': 688,\n",
       " 'frightening': 689,\n",
       " 'oscar': 690,\n",
       " 'knew': 691,\n",
       " 'lots': 692,\n",
       " 'space': 693,\n",
       " 'footage': 694,\n",
       " 'course': 695,\n",
       " 'perfectly': 696,\n",
       " 'finally': 697,\n",
       " 'share': 698,\n",
       " 'rate': 699,\n",
       " 'sort': 700,\n",
       " 'conclusion': 701,\n",
       " 'heart': 702,\n",
       " 'race': 703,\n",
       " 'appearance': 704,\n",
       " 'looks': 705,\n",
       " 'happen': 706,\n",
       " 'final': 707,\n",
       " 'unconvincing': 708,\n",
       " 'produced': 709,\n",
       " 'early': 710,\n",
       " 'documentary': 711,\n",
       " 'martin': 712,\n",
       " 'racial': 713,\n",
       " 'mickey': 714,\n",
       " 'watchable': 715,\n",
       " 'weak': 716,\n",
       " 'due': 717,\n",
       " \"film's\": 718,\n",
       " 'recent': 719,\n",
       " \"90's\": 720,\n",
       " 'nonsense': 721,\n",
       " 'fantastic': 722,\n",
       " 'south': 723,\n",
       " \"you're\": 724,\n",
       " 'plays': 725,\n",
       " 'thinking': 726,\n",
       " 'wrong': 727,\n",
       " 'giallo': 728,\n",
       " 'sub': 729,\n",
       " 'emotions': 730,\n",
       " 'ability': 731,\n",
       " 'write': 732,\n",
       " 'writer': 733,\n",
       " 'puppets': 734,\n",
       " 'animation': 735,\n",
       " 'flat': 736,\n",
       " 'whom': 737,\n",
       " 'walked': 738,\n",
       " 'angles': 739,\n",
       " 'became': 740,\n",
       " 'keeps': 741,\n",
       " 'running': 742,\n",
       " 'charm': 743,\n",
       " 'empty': 744,\n",
       " 'jimmy': 745,\n",
       " 'appealing': 746,\n",
       " 'case': 747,\n",
       " 'clearly': 748,\n",
       " 'review': 749,\n",
       " 'sisters': 750,\n",
       " 'terms': 751,\n",
       " 'aspect': 752,\n",
       " 'masterpiece': 753,\n",
       " 'masterpieces': 754,\n",
       " 'ask': 755,\n",
       " 'form': 756,\n",
       " 'imaginable': 757,\n",
       " 'pieces': 758,\n",
       " 'fit': 759,\n",
       " 'create': 760,\n",
       " 'deserves': 761,\n",
       " 'levels': 762,\n",
       " 'canada': 763,\n",
       " 'buy': 764,\n",
       " '13': 765,\n",
       " 'sequel': 766,\n",
       " 'rated': 767,\n",
       " 'interested': 768,\n",
       " 'unfunny': 769,\n",
       " 'joke': 770,\n",
       " 'morgan': 771,\n",
       " 'jonah': 772,\n",
       " 'lazy': 773,\n",
       " 'presence': 774,\n",
       " 'obvious': 775,\n",
       " 'cost': 776,\n",
       " 'despite': 777,\n",
       " 'choice': 778,\n",
       " 'lesser': 779,\n",
       " 'french': 780,\n",
       " 'fall': 781,\n",
       " 'cause': 782,\n",
       " 'regret': 783,\n",
       " 'front': 784,\n",
       " 'whiny': 785,\n",
       " 'future': 786,\n",
       " 'anne': 787,\n",
       " '9': 788,\n",
       " 'reading': 789,\n",
       " 'voice': 790,\n",
       " 'warmth': 791,\n",
       " 'twice': 792,\n",
       " 'delivering': 793,\n",
       " 'honestly': 794,\n",
       " 'unpredictable': 795,\n",
       " 'badly': 796,\n",
       " 'parents': 797,\n",
       " 'alexander': 798,\n",
       " 'artist': 799,\n",
       " 's': 800,\n",
       " 'gonna': 801,\n",
       " 'business': 802,\n",
       " 'needed': 803,\n",
       " 'mouth': 804,\n",
       " 'run': 805,\n",
       " 'superbly': 806,\n",
       " 'turned': 807,\n",
       " 'b': 808,\n",
       " 'list': 809,\n",
       " 'problem': 810,\n",
       " 'heaven': 811,\n",
       " 'lives': 812,\n",
       " 'church': 813,\n",
       " 'uplifting': 814,\n",
       " 'frankly': 815,\n",
       " 'lane': 816,\n",
       " 'chick': 817,\n",
       " 'disappointing': 818,\n",
       " 'lousy': 819,\n",
       " 'bring': 820,\n",
       " 'fresh': 821,\n",
       " 'bold': 822,\n",
       " 'helps': 823,\n",
       " 'idiot': 824,\n",
       " 'occupied': 825,\n",
       " 'instead': 826,\n",
       " 'accused': 827,\n",
       " 'edge': 828,\n",
       " 'somewhat': 829,\n",
       " 'afraid': 830,\n",
       " 'advise': 831,\n",
       " 'tremendously': 832,\n",
       " 'sandra': 833,\n",
       " 'bullock': 834,\n",
       " 'supposedly': 835,\n",
       " 'several': 836,\n",
       " 'moments': 837,\n",
       " 'need': 838,\n",
       " 'friends': 839,\n",
       " 'disappointment': 840,\n",
       " 'cannot': 841,\n",
       " 'stand': 842,\n",
       " 'losing': 843,\n",
       " 'putting': 844,\n",
       " 'ratings': 845,\n",
       " 'dramatic': 846,\n",
       " 'tension': 847,\n",
       " 'central': 848,\n",
       " 'themes': 849,\n",
       " 'handled': 850,\n",
       " 'pictures': 851,\n",
       " 'flawed': 852,\n",
       " 'core': 853,\n",
       " 'following': 854,\n",
       " 'bunch': 855,\n",
       " 'high': 856,\n",
       " 'hell': 857,\n",
       " 'viewing': 858,\n",
       " 'disaster': 859,\n",
       " 'paid': 860,\n",
       " 'quinn': 861,\n",
       " 'crazy': 862,\n",
       " 'hate': 863,\n",
       " 'yeah': 864,\n",
       " 'girlfriend': 865,\n",
       " 'disliked': 866,\n",
       " 'five': 867,\n",
       " 'mad': 868,\n",
       " '50': 869,\n",
       " 'cardboard': 870,\n",
       " 'predictably': 871,\n",
       " 'crafted': 872,\n",
       " 'depressing': 873,\n",
       " 'racism': 874,\n",
       " 'took': 875,\n",
       " 'redeeming': 876,\n",
       " 'appalling': 877,\n",
       " 'setting': 878,\n",
       " 'charisma': 879,\n",
       " 'explanation': 880,\n",
       " 'era': 881,\n",
       " 'wanted': 882,\n",
       " 'missed': 883,\n",
       " 'step': 884,\n",
       " 'freedom': 885,\n",
       " 'below': 886,\n",
       " 'received': 887,\n",
       " 'wayne': 888,\n",
       " 'industry': 889,\n",
       " 'noteworthy': 890,\n",
       " 'blood': 891,\n",
       " 'jamie': 892,\n",
       " 'genius': 893,\n",
       " 'owned': 894,\n",
       " 'daughter': 895,\n",
       " 'material': 896,\n",
       " 'goes': 897,\n",
       " 'hence': 898,\n",
       " 'machine': 899,\n",
       " 'flaws': 900,\n",
       " 'mishima': 901,\n",
       " 'uninteresting': 902,\n",
       " 'chilly': 903,\n",
       " 'schrader': 904,\n",
       " 'recently': 905,\n",
       " 'struck': 906,\n",
       " 'contained': 907,\n",
       " 'realistic': 908,\n",
       " 'lacked': 909,\n",
       " 'talent': 910,\n",
       " \"director's\": 911,\n",
       " 'chance': 912,\n",
       " 'master': 913,\n",
       " 'thrilled': 914,\n",
       " 'senses': 915,\n",
       " 'deeply': 916,\n",
       " 'june': 917,\n",
       " 'considering': 918,\n",
       " 'offers': 919,\n",
       " 'mexican': 920,\n",
       " 'matter': 921,\n",
       " 'noir': 922,\n",
       " 'complex': 923,\n",
       " 'psychological': 924,\n",
       " 'soul': 925,\n",
       " 'water': 926,\n",
       " 'gripping': 927,\n",
       " 'control': 928,\n",
       " 'disturbing': 929,\n",
       " 'jerky': 930,\n",
       " 'camerawork': 931,\n",
       " 'sick': 932,\n",
       " 'summary': 933,\n",
       " \"weren't\": 934,\n",
       " 'witty': 935,\n",
       " 'above': 936,\n",
       " 'ceases': 937,\n",
       " 'directors': 938,\n",
       " 'visually': 939,\n",
       " 'spoiler': 940,\n",
       " 'remaining': 941,\n",
       " 'suffering': 942,\n",
       " 'smile': 943,\n",
       " 'literally': 944,\n",
       " '25': 945,\n",
       " 'unfolds': 946,\n",
       " 'leaves': 947,\n",
       " 'room': 948,\n",
       " 'contrast': 949,\n",
       " 'sublime': 950,\n",
       " '5': 951,\n",
       " 'offensive': 952,\n",
       " 'poetry': 953,\n",
       " 'reviewer': 954,\n",
       " 'masterful': 955,\n",
       " 'pitiful': 956,\n",
       " 'nature': 957,\n",
       " 'female': 958,\n",
       " 'nuts': 959,\n",
       " 'dangerous': 960,\n",
       " 'reactions': 961,\n",
       " 'twist': 962,\n",
       " 'shed': 963,\n",
       " 'forget': 964,\n",
       " 'underneath': 965,\n",
       " 'call': 966,\n",
       " 'assistant': 967,\n",
       " 'laugh': 968,\n",
       " 'de': 969,\n",
       " 'cute': 970,\n",
       " 'guy': 971,\n",
       " \"he's\": 972,\n",
       " 'taped': 973,\n",
       " 'likes': 974,\n",
       " 'wholesome': 975,\n",
       " 'ways': 976,\n",
       " 'portraying': 977,\n",
       " 'pleased': 978,\n",
       " 'modern': 979,\n",
       " 'taking': 980,\n",
       " 'towards': 981,\n",
       " 'attempts': 982,\n",
       " 'supposed': 983,\n",
       " 'light': 984,\n",
       " 'situation': 985,\n",
       " 'leave': 986,\n",
       " 'bear': 987,\n",
       " 'kinda': 988,\n",
       " 'question': 989,\n",
       " 'lucy': 990,\n",
       " 'wonder': 991,\n",
       " 'composition': 992,\n",
       " 'brian': 993,\n",
       " 'son': 994,\n",
       " 'member': 995,\n",
       " 'identify': 996,\n",
       " \"huston's\": 997,\n",
       " 'steve': 998,\n",
       " 'robert': 999,\n",
       " 'father': 1000,\n",
       " ...}"
      ]
     },
     "execution_count": 6,
     "metadata": {},
     "output_type": "execute_result"
    }
   ],
   "source": [
    "tk.word_index"
   ]
  },
  {
   "cell_type": "code",
   "execution_count": 7,
   "metadata": {},
   "outputs": [
    {
     "data": {
      "text/plain": [
       "31"
      ]
     },
     "execution_count": 7,
     "metadata": {},
     "output_type": "execute_result"
    }
   ],
   "source": [
    "tk.word_index['good']"
   ]
  },
  {
   "cell_type": "code",
   "execution_count": 8,
   "metadata": {},
   "outputs": [
    {
     "data": {
      "text/plain": [
       "'good'"
      ]
     },
     "execution_count": 8,
     "metadata": {},
     "output_type": "execute_result"
    }
   ],
   "source": [
    "tk.index_word[31]"
   ]
  },
  {
   "cell_type": "code",
   "execution_count": 17,
   "metadata": {},
   "outputs": [
    {
     "data": {
      "text/plain": [
       "['tokenizer.pkl']"
      ]
     },
     "execution_count": 17,
     "metadata": {},
     "output_type": "execute_result"
    }
   ],
   "source": [
    "import joblib\n",
    "\n",
    "joblib.dump(tk, 'tokenizer.pkl')"
   ]
  },
  {
   "cell_type": "markdown",
   "metadata": {},
   "source": [
    "## 전처리"
   ]
  },
  {
   "cell_type": "code",
   "execution_count": 10,
   "metadata": {},
   "outputs": [],
   "source": [
    "import joblib\n",
    "\n",
    "tk = joblib.load('tokenizer.pkl')"
   ]
  },
  {
   "cell_type": "code",
   "execution_count": 11,
   "metadata": {},
   "outputs": [],
   "source": [
    "seqs = tk.texts_to_sequences(df['review'])"
   ]
  },
  {
   "cell_type": "code",
   "execution_count": 12,
   "metadata": {},
   "outputs": [
    {
     "data": {
      "text/plain": [
       "[4, 27, 27, 27, 287, 407, 1217, 13, 36, 4, 1218, 1219, 408, 142]"
      ]
     },
     "execution_count": 12,
     "metadata": {},
     "output_type": "execute_result"
    }
   ],
   "source": [
    "seqs[0]"
   ]
  },
  {
   "cell_type": "code",
   "execution_count": 13,
   "metadata": {},
   "outputs": [
    {
     "data": {
      "text/plain": [
       "'<unk>'"
      ]
     },
     "execution_count": 13,
     "metadata": {},
     "output_type": "execute_result"
    }
   ],
   "source": [
    "tk.index_word[1]"
   ]
  },
  {
   "cell_type": "code",
   "execution_count": 14,
   "metadata": {},
   "outputs": [
    {
     "data": {
      "text/plain": [
       "('a', 'very', 'slow')"
      ]
     },
     "execution_count": 14,
     "metadata": {},
     "output_type": "execute_result"
    }
   ],
   "source": [
    "tk.index_word[4], tk.index_word[27], tk.index_word[287]"
   ]
  },
  {
   "cell_type": "code",
   "execution_count": 15,
   "metadata": {},
   "outputs": [],
   "source": [
    "seq = seqs[0]"
   ]
  },
  {
   "cell_type": "code",
   "execution_count": 16,
   "metadata": {},
   "outputs": [
    {
     "data": {
      "text/plain": [
       "14"
      ]
     },
     "execution_count": 16,
     "metadata": {},
     "output_type": "execute_result"
    }
   ],
   "source": [
    "len(seq)"
   ]
  },
  {
   "cell_type": "code",
   "execution_count": 17,
   "metadata": {},
   "outputs": [
    {
     "data": {
      "text/plain": [
       "[0, 1, 2, 3, 4, 5, 6, 7, 8, 9]"
      ]
     },
     "execution_count": 17,
     "metadata": {},
     "output_type": "execute_result"
    }
   ],
   "source": [
    "list(range(0, len(seq) - 4))"
   ]
  },
  {
   "cell_type": "code",
   "execution_count": 18,
   "metadata": {},
   "outputs": [],
   "source": [
    "data = []\n",
    "for seq in seqs:\n",
    "    # print(\"**\", seq, \"**\")\n",
    "    for i in range(0, len(seq) - 4):\n",
    "        pass\n",
    "        # print(seq[i:i+4], seq[i+4])\n",
    "    # print(\"=\"*40)"
   ]
  },
  {
   "cell_type": "code",
   "execution_count": 19,
   "metadata": {},
   "outputs": [
    {
     "data": {
      "text/plain": [
       "([4, 27, 27, 27], 287)"
      ]
     },
     "execution_count": 19,
     "metadata": {},
     "output_type": "execute_result"
    }
   ],
   "source": [
    "data = []\n",
    "for seq in seqs:\n",
    "    for i in range(0, len(seq) - 4):\n",
    "        data.append((seq[i:i+4], seq[i+4]))\n",
    "        \n",
    "data[0]"
   ]
  },
  {
   "cell_type": "code",
   "execution_count": 20,
   "metadata": {},
   "outputs": [
    {
     "data": {
      "text/plain": [
       "([47, 1042, 24, 11], 4)"
      ]
     },
     "execution_count": 20,
     "metadata": {},
     "output_type": "execute_result"
    }
   ],
   "source": [
    "import random\n",
    "\n",
    "random.shuffle(data)\n",
    "data[0]"
   ]
  },
  {
   "cell_type": "code",
   "execution_count": 21,
   "metadata": {},
   "outputs": [],
   "source": [
    "import numpy as np\n",
    "\n",
    "xs = np.array([x for x, y in data])\n",
    "ys = np.array([y for x, y in data])"
   ]
  },
  {
   "cell_type": "code",
   "execution_count": 22,
   "metadata": {},
   "outputs": [
    {
     "data": {
      "text/plain": [
       "array([[  47, 1042,   24,   11],\n",
       "       [ 648,   85,    9,   77],\n",
       "       [  55,  951,  397,  609],\n",
       "       ...,\n",
       "       [ 172,    1,   37,    4],\n",
       "       [ 279, 1199,   71,  101],\n",
       "       [ 644,    5,    7,  956]])"
      ]
     },
     "execution_count": 22,
     "metadata": {},
     "output_type": "execute_result"
    }
   ],
   "source": [
    "xs"
   ]
  },
  {
   "cell_type": "code",
   "execution_count": 23,
   "metadata": {},
   "outputs": [
    {
     "data": {
      "text/plain": [
       "array([  4, 130, 273, ..., 266, 239, 460])"
      ]
     },
     "execution_count": 23,
     "metadata": {},
     "output_type": "execute_result"
    }
   ],
   "source": [
    "ys"
   ]
  },
  {
   "cell_type": "code",
   "execution_count": 26,
   "metadata": {},
   "outputs": [
    {
     "data": {
      "text/plain": [
       "['lm-data.pkl']"
      ]
     },
     "execution_count": 26,
     "metadata": {},
     "output_type": "execute_result"
    }
   ],
   "source": [
    "joblib.dump((xs, ys), 'lm-data.pkl')"
   ]
  },
  {
   "cell_type": "markdown",
   "metadata": {},
   "source": [
    "## 학습"
   ]
  },
  {
   "cell_type": "code",
   "execution_count": 24,
   "metadata": {},
   "outputs": [],
   "source": [
    "import joblib\n",
    "\n",
    "tk = joblib.load('tokenizer.pkl')\n",
    "xs, ys = joblib.load('lm-data.pkl')"
   ]
  },
  {
   "cell_type": "code",
   "execution_count": 25,
   "metadata": {},
   "outputs": [],
   "source": [
    "NUM_WORD = tk.num_words + 1\n",
    "# +1 하는 이유 : 패딩"
   ]
  },
  {
   "cell_type": "code",
   "execution_count": 26,
   "metadata": {},
   "outputs": [
    {
     "data": {
      "text/plain": [
       "{1: '<unk>',\n",
       " 2: 'the',\n",
       " 3: 'and',\n",
       " 4: 'a',\n",
       " 5: 'of',\n",
       " 6: 'is',\n",
       " 7: 'this',\n",
       " 8: 'i',\n",
       " 9: 'it',\n",
       " 10: 'to',\n",
       " 11: 'in',\n",
       " 12: 'was',\n",
       " 13: 'movie',\n",
       " 14: 'film',\n",
       " 15: 'that',\n",
       " 16: 'for',\n",
       " 17: 'as',\n",
       " 18: 'but',\n",
       " 19: 'with',\n",
       " 20: 'one',\n",
       " 21: 'on',\n",
       " 22: 'you',\n",
       " 23: 'are',\n",
       " 24: 'not',\n",
       " 25: 'bad',\n",
       " 26: \"it's\",\n",
       " 27: 'very',\n",
       " 28: 'all',\n",
       " 29: 'just',\n",
       " 30: 'so',\n",
       " 31: 'good',\n",
       " 32: 'at',\n",
       " 33: 'an',\n",
       " 34: 'be',\n",
       " 35: 'there',\n",
       " 36: 'about',\n",
       " 37: 'have',\n",
       " 38: 'by',\n",
       " 39: 'like',\n",
       " 40: 'from',\n",
       " 41: 'if',\n",
       " 42: 'acting',\n",
       " 43: 'time',\n",
       " 44: 'out',\n",
       " 45: 'his',\n",
       " 46: 'or',\n",
       " 47: 'really',\n",
       " 48: 'great',\n",
       " 49: 'even',\n",
       " 50: 'he',\n",
       " 51: 'who',\n",
       " 52: 'were',\n",
       " 53: 'has',\n",
       " 54: 'see',\n",
       " 55: 'my',\n",
       " 56: 'characters',\n",
       " 57: 'well',\n",
       " 58: 'most',\n",
       " 59: 'how',\n",
       " 60: 'more',\n",
       " 61: 'no',\n",
       " 62: 'only',\n",
       " 63: 'when',\n",
       " 64: 'ever',\n",
       " 65: '10',\n",
       " 66: 'movies',\n",
       " 67: 'plot',\n",
       " 68: 'story',\n",
       " 69: 'made',\n",
       " 70: 'some',\n",
       " 71: 'they',\n",
       " 72: 'best',\n",
       " 73: 'because',\n",
       " 74: 'your',\n",
       " 75: 'can',\n",
       " 76: 'also',\n",
       " 77: \"don't\",\n",
       " 78: 'films',\n",
       " 79: 'than',\n",
       " 80: 'its',\n",
       " 81: 'script',\n",
       " 82: 'other',\n",
       " 83: 'character',\n",
       " 84: 'would',\n",
       " 85: 'seen',\n",
       " 86: 'way',\n",
       " 87: 'love',\n",
       " 88: 'make',\n",
       " 89: \"didn't\",\n",
       " 90: 'do',\n",
       " 91: 'me',\n",
       " 92: 'watching',\n",
       " 93: 'her',\n",
       " 94: 'which',\n",
       " 95: 'what',\n",
       " 96: 'up',\n",
       " 97: 'any',\n",
       " 98: 'think',\n",
       " 99: 'real',\n",
       " 100: 'could',\n",
       " 101: 'will',\n",
       " 102: 'had',\n",
       " 103: 'every',\n",
       " 104: 'much',\n",
       " 105: 'work',\n",
       " 106: 'too',\n",
       " 107: 'look',\n",
       " 108: 'funny',\n",
       " 109: 'scenes',\n",
       " 110: 'actors',\n",
       " 111: 'better',\n",
       " 112: 'over',\n",
       " 113: 'cast',\n",
       " 114: 'never',\n",
       " 115: 'wonderful',\n",
       " 116: 'little',\n",
       " 117: 'them',\n",
       " 118: 'into',\n",
       " 119: 'watch',\n",
       " 120: 'show',\n",
       " 121: 'everything',\n",
       " 122: 'excellent',\n",
       " 123: 'anyone',\n",
       " 124: 'their',\n",
       " 125: 'totally',\n",
       " 126: 'both',\n",
       " 127: 'here',\n",
       " 128: 'music',\n",
       " 129: 'scene',\n",
       " 130: 'waste',\n",
       " 131: 'people',\n",
       " 132: 'screen',\n",
       " 133: 'go',\n",
       " 134: 'years',\n",
       " 135: 'nothing',\n",
       " 136: 'stupid',\n",
       " 137: 'awful',\n",
       " 138: 'get',\n",
       " 139: 'know',\n",
       " 140: 'still',\n",
       " 141: 'many',\n",
       " 142: 'man',\n",
       " 143: 'art',\n",
       " 144: 'two',\n",
       " 145: 'right',\n",
       " 146: 'say',\n",
       " 147: 'recommend',\n",
       " 148: 'dialogue',\n",
       " 149: 'worth',\n",
       " 150: 'writing',\n",
       " 151: 'pretty',\n",
       " 152: 'after',\n",
       " 153: 'thing',\n",
       " 154: 'again',\n",
       " 155: 'saw',\n",
       " 156: 'thought',\n",
       " 157: 'those',\n",
       " 158: 'life',\n",
       " 159: 'line',\n",
       " 160: \"doesn't\",\n",
       " 161: 'things',\n",
       " 162: 'interesting',\n",
       " 163: 'been',\n",
       " 164: 'such',\n",
       " 165: 'terrible',\n",
       " 166: 'performance',\n",
       " 167: 'being',\n",
       " 168: 'enough',\n",
       " 169: 'beautiful',\n",
       " 170: 'short',\n",
       " 171: 'part',\n",
       " 172: 'did',\n",
       " 173: 'give',\n",
       " 174: \"can't\",\n",
       " 175: 'worst',\n",
       " 176: \"i've\",\n",
       " 177: 'though',\n",
       " 178: 'first',\n",
       " 179: 'ending',\n",
       " 180: 'should',\n",
       " 181: 'end',\n",
       " 182: 'worse',\n",
       " 183: 'she',\n",
       " 184: 'camera',\n",
       " 185: 'find',\n",
       " 186: 'through',\n",
       " 187: 'predictable',\n",
       " 188: 'loved',\n",
       " 189: 'cinematography',\n",
       " 190: 'quite',\n",
       " 191: 'simply',\n",
       " 192: 'actually',\n",
       " 193: \"i'm\",\n",
       " 194: 'actor',\n",
       " 195: 'feeling',\n",
       " 196: 'now',\n",
       " 197: 'liked',\n",
       " 198: 'piece',\n",
       " 199: 'big',\n",
       " 200: 'going',\n",
       " 201: 'played',\n",
       " 202: 'boring',\n",
       " 203: 'however',\n",
       " 204: 'director',\n",
       " 205: 'between',\n",
       " 206: 'highly',\n",
       " 207: 'off',\n",
       " 208: 'drama',\n",
       " 209: 'black',\n",
       " 210: 'almost',\n",
       " 211: 'lot',\n",
       " 212: 'directing',\n",
       " 213: 'does',\n",
       " 214: 'game',\n",
       " 215: 'play',\n",
       " 216: 'least',\n",
       " 217: 'effects',\n",
       " 218: \"that's\",\n",
       " 219: 'enjoyed',\n",
       " 220: 'absolutely',\n",
       " 221: 'these',\n",
       " 222: 'amazing',\n",
       " 223: 'horror',\n",
       " 224: 'definitely',\n",
       " 225: 'understand',\n",
       " 226: 'watched',\n",
       " 227: 'truly',\n",
       " 228: 'job',\n",
       " 229: 'whole',\n",
       " 230: 'we',\n",
       " 231: 'am',\n",
       " 232: 'special',\n",
       " 233: 'white',\n",
       " 234: 'anything',\n",
       " 235: 'kids',\n",
       " 236: 'long',\n",
       " 237: 'cinema',\n",
       " 238: 'where',\n",
       " 239: 'certainly',\n",
       " 240: 'series',\n",
       " 241: 'kind',\n",
       " 242: 'tv',\n",
       " 243: 'found',\n",
       " 244: 'suspense',\n",
       " 245: 'especially',\n",
       " 246: 'myself',\n",
       " 247: 'then',\n",
       " 248: 'fact',\n",
       " 249: 'believe',\n",
       " 250: 'minutes',\n",
       " 251: \"there's\",\n",
       " 252: 'probably',\n",
       " 253: 'got',\n",
       " 254: 'used',\n",
       " 255: 'done',\n",
       " 256: 'old',\n",
       " 257: 'makes',\n",
       " 258: 'mess',\n",
       " 259: 'avoid',\n",
       " 260: 'sucks',\n",
       " 261: 'lines',\n",
       " 262: 'wasted',\n",
       " 263: 'cool',\n",
       " 264: 'budget',\n",
       " 265: 'together',\n",
       " 266: 'far',\n",
       " 267: \"wasn't\",\n",
       " 268: 'written',\n",
       " 269: 'another',\n",
       " 270: 'playing',\n",
       " 271: 'must',\n",
       " 272: '1',\n",
       " 273: 'experience',\n",
       " 274: 'sucked',\n",
       " 275: 'self',\n",
       " 276: 'john',\n",
       " 277: 'action',\n",
       " 278: 'cheap',\n",
       " 279: 'subtle',\n",
       " 280: 'everyone',\n",
       " 281: 'our',\n",
       " 282: 'around',\n",
       " 283: 'each',\n",
       " 284: 'top',\n",
       " 285: 'garbage',\n",
       " 286: 'comedy',\n",
       " 287: 'slow',\n",
       " 288: 'half',\n",
       " 289: 'disappointed',\n",
       " 290: 'poor',\n",
       " 291: 'lacks',\n",
       " 292: 'casting',\n",
       " 293: 'hilarious',\n",
       " 294: 'editing',\n",
       " 295: 'making',\n",
       " 296: 'perfect',\n",
       " 297: 'history',\n",
       " 298: 'rather',\n",
       " 299: 'money',\n",
       " 300: 'crap',\n",
       " 301: 'flick',\n",
       " 302: 'take',\n",
       " 303: 'family',\n",
       " 304: 'entire',\n",
       " 305: 'whatever',\n",
       " 306: 'having',\n",
       " 307: 'performances',\n",
       " 308: 'believable',\n",
       " 309: 'portrayal',\n",
       " 310: 'annoying',\n",
       " 311: 'gives',\n",
       " 312: 'want',\n",
       " 313: 'classic',\n",
       " 314: 'nice',\n",
       " 315: \"i'd\",\n",
       " 316: 'brilliant',\n",
       " 317: 'rent',\n",
       " 318: 'world',\n",
       " 319: 'why',\n",
       " 320: 'horrible',\n",
       " 321: 'few',\n",
       " 322: 'sound',\n",
       " 323: 'incredible',\n",
       " 324: 'him',\n",
       " 325: 'own',\n",
       " 326: 'mostly',\n",
       " 327: 'holes',\n",
       " 328: 'use',\n",
       " 329: 'human',\n",
       " 330: 'memorable',\n",
       " 331: 'seeing',\n",
       " 332: 'gets',\n",
       " 333: 'throughout',\n",
       " 334: 'second',\n",
       " 335: 'style',\n",
       " 336: 'recommended',\n",
       " 337: 'audience',\n",
       " 338: 'clever',\n",
       " 339: 'ridiculous',\n",
       " 340: 'non',\n",
       " 341: 'works',\n",
       " 342: 'guess',\n",
       " 343: 'bit',\n",
       " 344: 'face',\n",
       " 345: 'low',\n",
       " 346: 'since',\n",
       " 347: 'single',\n",
       " 348: 'put',\n",
       " 349: 'production',\n",
       " 350: '\\x96',\n",
       " 351: 'mind',\n",
       " 352: 'amount',\n",
       " 353: 'strong',\n",
       " 354: 'fun',\n",
       " 355: 'enjoy',\n",
       " 356: 'lame',\n",
       " 357: 'away',\n",
       " 358: 'girl',\n",
       " 359: 'tom',\n",
       " 360: 'often',\n",
       " 361: 'word',\n",
       " 362: 'overall',\n",
       " 363: 'gave',\n",
       " 364: 'terrific',\n",
       " 365: 'same',\n",
       " 366: 'hour',\n",
       " 367: 'joy',\n",
       " 368: 'before',\n",
       " 369: 'oh',\n",
       " 370: 'night',\n",
       " 371: \"couldn't\",\n",
       " 372: 'direction',\n",
       " 373: 'cult',\n",
       " 374: 'times',\n",
       " 375: 'beyond',\n",
       " 376: 'lead',\n",
       " 377: 'silent',\n",
       " 378: 'hitchcock',\n",
       " 379: 'thriller',\n",
       " 380: 'new',\n",
       " 381: 'full',\n",
       " 382: 'completely',\n",
       " 383: 'pathetic',\n",
       " 384: 'talk',\n",
       " 385: 'care',\n",
       " 386: 'fails',\n",
       " 387: 'yet',\n",
       " 388: 'said',\n",
       " 389: 'fans',\n",
       " 390: 'solid',\n",
       " 391: 'felt',\n",
       " 392: 'child',\n",
       " 393: 'day',\n",
       " 394: 'started',\n",
       " 395: 'shot',\n",
       " 396: 'mention',\n",
       " 397: 'year',\n",
       " 398: 'different',\n",
       " 399: 'involved',\n",
       " 400: 'period',\n",
       " 401: \"won't\",\n",
       " 402: 'particularly',\n",
       " 403: 'come',\n",
       " 404: 'superb',\n",
       " 405: 'fine',\n",
       " 406: 'fast',\n",
       " 407: 'moving',\n",
       " 408: 'young',\n",
       " 409: 'lost',\n",
       " 410: 'trying',\n",
       " 411: 'song',\n",
       " 412: 'rest',\n",
       " 413: 'hours',\n",
       " 414: 'adorable',\n",
       " 415: 'songs',\n",
       " 416: 'consider',\n",
       " 417: 'tale',\n",
       " 418: \"i'll\",\n",
       " 419: 'true',\n",
       " 420: 'easily',\n",
       " 421: 'something',\n",
       " 422: 'minute',\n",
       " 423: 'level',\n",
       " 424: 'idea',\n",
       " 425: 'mediocre',\n",
       " 426: 'pg',\n",
       " 427: 'point',\n",
       " 428: 'itself',\n",
       " 429: 'perhaps',\n",
       " 430: 'glad',\n",
       " 431: 'lovely',\n",
       " 432: 'hard',\n",
       " 433: '2',\n",
       " 434: 'let',\n",
       " 435: 'utterly',\n",
       " 436: 'convincing',\n",
       " 437: 'book',\n",
       " 438: 'whether',\n",
       " 439: \"they're\",\n",
       " 440: 'follow',\n",
       " 441: 'energy',\n",
       " 442: 'generally',\n",
       " 443: 'pretentious',\n",
       " 444: 'occasionally',\n",
       " 445: 'try',\n",
       " 446: 'extremely',\n",
       " 447: 'back',\n",
       " 448: 'maybe',\n",
       " 449: 'sometimes',\n",
       " 450: 'during',\n",
       " 451: 'chemistry',\n",
       " 452: 'last',\n",
       " 453: 'unfortunately',\n",
       " 454: 'depth',\n",
       " 455: 'imagination',\n",
       " 456: 'barely',\n",
       " 457: 'storyline',\n",
       " 458: 'keep',\n",
       " 459: 'already',\n",
       " 460: 'attempt',\n",
       " 461: 'down',\n",
       " 462: 'mean',\n",
       " 463: 'us',\n",
       " 464: 'without',\n",
       " 465: 'torture',\n",
       " 466: 'premise',\n",
       " 467: 'seem',\n",
       " 468: 'ups',\n",
       " 469: 'age',\n",
       " 470: 'ray',\n",
       " 471: 'usual',\n",
       " 472: 'living',\n",
       " 473: 'themselves',\n",
       " 474: 'else',\n",
       " 475: 'tell',\n",
       " 476: 'visual',\n",
       " 477: 'plain',\n",
       " 478: 'soundtrack',\n",
       " 479: 'trash',\n",
       " 480: 'came',\n",
       " 481: 'either',\n",
       " 482: 'less',\n",
       " 483: 'hope',\n",
       " 484: 'eyes',\n",
       " 485: 'indeed',\n",
       " 486: 'theater',\n",
       " 487: 'rating',\n",
       " 488: 'three',\n",
       " 489: 'huge',\n",
       " 490: 'intelligence',\n",
       " 491: 'intelligent',\n",
       " 492: 'entertaining',\n",
       " 493: 'bored',\n",
       " 494: 'become',\n",
       " 495: 'roles',\n",
       " 496: 'drago',\n",
       " 497: 'looked',\n",
       " 498: 'parts',\n",
       " 499: 'sets',\n",
       " 500: 'stories',\n",
       " 501: 'created',\n",
       " 502: 'role',\n",
       " 503: 'scamp',\n",
       " 504: 'comes',\n",
       " 505: 'place',\n",
       " 506: 'star',\n",
       " 507: 'always',\n",
       " 508: 'insult',\n",
       " 509: 'death',\n",
       " 510: 'may',\n",
       " 511: 'expect',\n",
       " 512: 'serious',\n",
       " 513: 'original',\n",
       " 514: 'james',\n",
       " 515: 'unbelievable',\n",
       " 516: 'costs',\n",
       " 517: 'small',\n",
       " 518: 'dance',\n",
       " 519: 'beginning',\n",
       " 520: 'appreciate',\n",
       " 521: 'easy',\n",
       " 522: 'sure',\n",
       " 523: 'speak',\n",
       " 524: 'head',\n",
       " 525: 'meaning',\n",
       " 526: 'today',\n",
       " 527: 'showed',\n",
       " 528: 'delivers',\n",
       " 529: 'average',\n",
       " 530: 'main',\n",
       " 531: 'greatest',\n",
       " 532: 'gem',\n",
       " 533: 'sea',\n",
       " 534: 'faux',\n",
       " 535: 'important',\n",
       " 536: 'words',\n",
       " 537: 'yes',\n",
       " 538: 'significant',\n",
       " 539: 'picture',\n",
       " 540: 'graphics',\n",
       " 541: 'massive',\n",
       " 542: 'pure',\n",
       " 543: 'brilliance',\n",
       " 544: 'complete',\n",
       " 545: 'while',\n",
       " 546: 'moment',\n",
       " 547: 'told',\n",
       " 548: 'talented',\n",
       " 549: 'stars',\n",
       " 550: 'hill',\n",
       " 551: 'ed',\n",
       " 552: 'quality',\n",
       " 553: 'obviously',\n",
       " 554: 'addition',\n",
       " 555: 'grace',\n",
       " 556: 'negative',\n",
       " 557: 'pointless',\n",
       " 558: 'children',\n",
       " 559: \"wouldn't\",\n",
       " 560: 'dialog',\n",
       " 561: 'shots',\n",
       " 562: \"aren't\",\n",
       " 563: 'given',\n",
       " 564: 'provoking',\n",
       " 565: 'plus',\n",
       " 566: 'paced',\n",
       " 567: 'wind',\n",
       " 568: 'lion',\n",
       " 569: 'acted',\n",
       " 570: 'decent',\n",
       " 571: 'checking',\n",
       " 572: 'touching',\n",
       " 573: 'looking',\n",
       " 574: 'including',\n",
       " 575: 'embarrassing',\n",
       " 576: 'scenery',\n",
       " 577: 'house',\n",
       " 578: 'wish',\n",
       " 579: 'along',\n",
       " 580: 'happened',\n",
       " 581: 'seems',\n",
       " 582: 'mature',\n",
       " 583: 'episode',\n",
       " 584: 'remake',\n",
       " 585: 'fear',\n",
       " 586: 'nobody',\n",
       " 587: 'conflict',\n",
       " 588: 'incredibly',\n",
       " 589: 'possible',\n",
       " 590: 'whatsoever',\n",
       " 591: 'stereotypes',\n",
       " 592: 'cartoon',\n",
       " 593: 'paul',\n",
       " 594: 'women',\n",
       " 595: 'brain',\n",
       " 596: 'left',\n",
       " 597: 'features',\n",
       " 598: 'presents',\n",
       " 599: 'free',\n",
       " 600: 'screenwriter',\n",
       " 601: 'close',\n",
       " 602: 'seemed',\n",
       " 603: \"you'll\",\n",
       " 604: 'indulgent',\n",
       " 605: 'spent',\n",
       " 606: \"isn't\",\n",
       " 607: 'charles',\n",
       " 608: 'remember',\n",
       " 609: 'working',\n",
       " 610: 'attention',\n",
       " 611: 'singing',\n",
       " 612: 'etc',\n",
       " 613: 'bore',\n",
       " 614: 'dancing',\n",
       " 615: 'dvd',\n",
       " 616: 'might',\n",
       " 617: 'theme',\n",
       " 618: 'aerial',\n",
       " 619: 'interest',\n",
       " 620: 'narrative',\n",
       " 621: 'actress',\n",
       " 622: 'called',\n",
       " 623: 'spoilers',\n",
       " 624: 'stunning',\n",
       " 625: 'fx',\n",
       " 626: 'note',\n",
       " 627: 'surprisingly',\n",
       " 628: 'released',\n",
       " 629: 'ranks',\n",
       " 630: 'journey',\n",
       " 631: 'location',\n",
       " 632: 'thoroughly',\n",
       " 633: 'turn',\n",
       " 634: 'memories',\n",
       " 635: 'places',\n",
       " 636: 'billy',\n",
       " 637: 'possibly',\n",
       " 638: 'trilogy',\n",
       " 639: 'favourite',\n",
       " 640: 'awesome',\n",
       " 641: 'earlier',\n",
       " 642: 'directed',\n",
       " 643: 'someone',\n",
       " 644: 'sense',\n",
       " 645: 'games',\n",
       " 646: 'genuine',\n",
       " 647: 'smart',\n",
       " 648: \"haven't\",\n",
       " 649: 'particular',\n",
       " 650: 'stage',\n",
       " 651: 'next',\n",
       " 652: '8',\n",
       " 653: 'super',\n",
       " 654: 'wonderfully',\n",
       " 655: 'actresses',\n",
       " 656: 'exactly',\n",
       " 657: 'shows',\n",
       " 658: 'drive',\n",
       " 659: 'scared',\n",
       " 660: 'enjoyable',\n",
       " 661: 'bought',\n",
       " 662: '90',\n",
       " 663: 'god',\n",
       " 664: 'effective',\n",
       " 665: 'set',\n",
       " 666: 'learn',\n",
       " 667: 'values',\n",
       " 668: 'photography',\n",
       " 669: 'ruthless',\n",
       " 670: 'although',\n",
       " 671: 'war',\n",
       " 672: 'type',\n",
       " 673: 'example',\n",
       " 674: 'feel',\n",
       " 675: 'seriously',\n",
       " 676: 'ready',\n",
       " 677: 'fan',\n",
       " 678: 'angel',\n",
       " 679: 'under',\n",
       " 680: 'coming',\n",
       " 681: '20',\n",
       " 682: 'charming',\n",
       " 683: 'clichés',\n",
       " 684: 'thrown',\n",
       " 685: 'reason',\n",
       " 686: 'scale',\n",
       " 687: 'problems',\n",
       " 688: 'score',\n",
       " 689: 'frightening',\n",
       " 690: 'oscar',\n",
       " 691: 'knew',\n",
       " 692: 'lots',\n",
       " 693: 'space',\n",
       " 694: 'footage',\n",
       " 695: 'course',\n",
       " 696: 'perfectly',\n",
       " 697: 'finally',\n",
       " 698: 'share',\n",
       " 699: 'rate',\n",
       " 700: 'sort',\n",
       " 701: 'conclusion',\n",
       " 702: 'heart',\n",
       " 703: 'race',\n",
       " 704: 'appearance',\n",
       " 705: 'looks',\n",
       " 706: 'happen',\n",
       " 707: 'final',\n",
       " 708: 'unconvincing',\n",
       " 709: 'produced',\n",
       " 710: 'early',\n",
       " 711: 'documentary',\n",
       " 712: 'martin',\n",
       " 713: 'racial',\n",
       " 714: 'mickey',\n",
       " 715: 'watchable',\n",
       " 716: 'weak',\n",
       " 717: 'due',\n",
       " 718: \"film's\",\n",
       " 719: 'recent',\n",
       " 720: \"90's\",\n",
       " 721: 'nonsense',\n",
       " 722: 'fantastic',\n",
       " 723: 'south',\n",
       " 724: \"you're\",\n",
       " 725: 'plays',\n",
       " 726: 'thinking',\n",
       " 727: 'wrong',\n",
       " 728: 'giallo',\n",
       " 729: 'sub',\n",
       " 730: 'emotions',\n",
       " 731: 'ability',\n",
       " 732: 'write',\n",
       " 733: 'writer',\n",
       " 734: 'puppets',\n",
       " 735: 'animation',\n",
       " 736: 'flat',\n",
       " 737: 'whom',\n",
       " 738: 'walked',\n",
       " 739: 'angles',\n",
       " 740: 'became',\n",
       " 741: 'keeps',\n",
       " 742: 'running',\n",
       " 743: 'charm',\n",
       " 744: 'empty',\n",
       " 745: 'jimmy',\n",
       " 746: 'appealing',\n",
       " 747: 'case',\n",
       " 748: 'clearly',\n",
       " 749: 'review',\n",
       " 750: 'sisters',\n",
       " 751: 'terms',\n",
       " 752: 'aspect',\n",
       " 753: 'masterpiece',\n",
       " 754: 'masterpieces',\n",
       " 755: 'ask',\n",
       " 756: 'form',\n",
       " 757: 'imaginable',\n",
       " 758: 'pieces',\n",
       " 759: 'fit',\n",
       " 760: 'create',\n",
       " 761: 'deserves',\n",
       " 762: 'levels',\n",
       " 763: 'canada',\n",
       " 764: 'buy',\n",
       " 765: '13',\n",
       " 766: 'sequel',\n",
       " 767: 'rated',\n",
       " 768: 'interested',\n",
       " 769: 'unfunny',\n",
       " 770: 'joke',\n",
       " 771: 'morgan',\n",
       " 772: 'jonah',\n",
       " 773: 'lazy',\n",
       " 774: 'presence',\n",
       " 775: 'obvious',\n",
       " 776: 'cost',\n",
       " 777: 'despite',\n",
       " 778: 'choice',\n",
       " 779: 'lesser',\n",
       " 780: 'french',\n",
       " 781: 'fall',\n",
       " 782: 'cause',\n",
       " 783: 'regret',\n",
       " 784: 'front',\n",
       " 785: 'whiny',\n",
       " 786: 'future',\n",
       " 787: 'anne',\n",
       " 788: '9',\n",
       " 789: 'reading',\n",
       " 790: 'voice',\n",
       " 791: 'warmth',\n",
       " 792: 'twice',\n",
       " 793: 'delivering',\n",
       " 794: 'honestly',\n",
       " 795: 'unpredictable',\n",
       " 796: 'badly',\n",
       " 797: 'parents',\n",
       " 798: 'alexander',\n",
       " 799: 'artist',\n",
       " 800: 's',\n",
       " 801: 'gonna',\n",
       " 802: 'business',\n",
       " 803: 'needed',\n",
       " 804: 'mouth',\n",
       " 805: 'run',\n",
       " 806: 'superbly',\n",
       " 807: 'turned',\n",
       " 808: 'b',\n",
       " 809: 'list',\n",
       " 810: 'problem',\n",
       " 811: 'heaven',\n",
       " 812: 'lives',\n",
       " 813: 'church',\n",
       " 814: 'uplifting',\n",
       " 815: 'frankly',\n",
       " 816: 'lane',\n",
       " 817: 'chick',\n",
       " 818: 'disappointing',\n",
       " 819: 'lousy',\n",
       " 820: 'bring',\n",
       " 821: 'fresh',\n",
       " 822: 'bold',\n",
       " 823: 'helps',\n",
       " 824: 'idiot',\n",
       " 825: 'occupied',\n",
       " 826: 'instead',\n",
       " 827: 'accused',\n",
       " 828: 'edge',\n",
       " 829: 'somewhat',\n",
       " 830: 'afraid',\n",
       " 831: 'advise',\n",
       " 832: 'tremendously',\n",
       " 833: 'sandra',\n",
       " 834: 'bullock',\n",
       " 835: 'supposedly',\n",
       " 836: 'several',\n",
       " 837: 'moments',\n",
       " 838: 'need',\n",
       " 839: 'friends',\n",
       " 840: 'disappointment',\n",
       " 841: 'cannot',\n",
       " 842: 'stand',\n",
       " 843: 'losing',\n",
       " 844: 'putting',\n",
       " 845: 'ratings',\n",
       " 846: 'dramatic',\n",
       " 847: 'tension',\n",
       " 848: 'central',\n",
       " 849: 'themes',\n",
       " 850: 'handled',\n",
       " 851: 'pictures',\n",
       " 852: 'flawed',\n",
       " 853: 'core',\n",
       " 854: 'following',\n",
       " 855: 'bunch',\n",
       " 856: 'high',\n",
       " 857: 'hell',\n",
       " 858: 'viewing',\n",
       " 859: 'disaster',\n",
       " 860: 'paid',\n",
       " 861: 'quinn',\n",
       " 862: 'crazy',\n",
       " 863: 'hate',\n",
       " 864: 'yeah',\n",
       " 865: 'girlfriend',\n",
       " 866: 'disliked',\n",
       " 867: 'five',\n",
       " 868: 'mad',\n",
       " 869: '50',\n",
       " 870: 'cardboard',\n",
       " 871: 'predictably',\n",
       " 872: 'crafted',\n",
       " 873: 'depressing',\n",
       " 874: 'racism',\n",
       " 875: 'took',\n",
       " 876: 'redeeming',\n",
       " 877: 'appalling',\n",
       " 878: 'setting',\n",
       " 879: 'charisma',\n",
       " 880: 'explanation',\n",
       " 881: 'era',\n",
       " 882: 'wanted',\n",
       " 883: 'missed',\n",
       " 884: 'step',\n",
       " 885: 'freedom',\n",
       " 886: 'below',\n",
       " 887: 'received',\n",
       " 888: 'wayne',\n",
       " 889: 'industry',\n",
       " 890: 'noteworthy',\n",
       " 891: 'blood',\n",
       " 892: 'jamie',\n",
       " 893: 'genius',\n",
       " 894: 'owned',\n",
       " 895: 'daughter',\n",
       " 896: 'material',\n",
       " 897: 'goes',\n",
       " 898: 'hence',\n",
       " 899: 'machine',\n",
       " 900: 'flaws',\n",
       " 901: 'mishima',\n",
       " 902: 'uninteresting',\n",
       " 903: 'chilly',\n",
       " 904: 'schrader',\n",
       " 905: 'recently',\n",
       " 906: 'struck',\n",
       " 907: 'contained',\n",
       " 908: 'realistic',\n",
       " 909: 'lacked',\n",
       " 910: 'talent',\n",
       " 911: \"director's\",\n",
       " 912: 'chance',\n",
       " 913: 'master',\n",
       " 914: 'thrilled',\n",
       " 915: 'senses',\n",
       " 916: 'deeply',\n",
       " 917: 'june',\n",
       " 918: 'considering',\n",
       " 919: 'offers',\n",
       " 920: 'mexican',\n",
       " 921: 'matter',\n",
       " 922: 'noir',\n",
       " 923: 'complex',\n",
       " 924: 'psychological',\n",
       " 925: 'soul',\n",
       " 926: 'water',\n",
       " 927: 'gripping',\n",
       " 928: 'control',\n",
       " 929: 'disturbing',\n",
       " 930: 'jerky',\n",
       " 931: 'camerawork',\n",
       " 932: 'sick',\n",
       " 933: 'summary',\n",
       " 934: \"weren't\",\n",
       " 935: 'witty',\n",
       " 936: 'above',\n",
       " 937: 'ceases',\n",
       " 938: 'directors',\n",
       " 939: 'visually',\n",
       " 940: 'spoiler',\n",
       " 941: 'remaining',\n",
       " 942: 'suffering',\n",
       " 943: 'smile',\n",
       " 944: 'literally',\n",
       " 945: '25',\n",
       " 946: 'unfolds',\n",
       " 947: 'leaves',\n",
       " 948: 'room',\n",
       " 949: 'contrast',\n",
       " 950: 'sublime',\n",
       " 951: '5',\n",
       " 952: 'offensive',\n",
       " 953: 'poetry',\n",
       " 954: 'reviewer',\n",
       " 955: 'masterful',\n",
       " 956: 'pitiful',\n",
       " 957: 'nature',\n",
       " 958: 'female',\n",
       " 959: 'nuts',\n",
       " 960: 'dangerous',\n",
       " 961: 'reactions',\n",
       " 962: 'twist',\n",
       " 963: 'shed',\n",
       " 964: 'forget',\n",
       " 965: 'underneath',\n",
       " 966: 'call',\n",
       " 967: 'assistant',\n",
       " 968: 'laugh',\n",
       " 969: 'de',\n",
       " 970: 'cute',\n",
       " 971: 'guy',\n",
       " 972: \"he's\",\n",
       " 973: 'taped',\n",
       " 974: 'likes',\n",
       " 975: 'wholesome',\n",
       " 976: 'ways',\n",
       " 977: 'portraying',\n",
       " 978: 'pleased',\n",
       " 979: 'modern',\n",
       " 980: 'taking',\n",
       " 981: 'towards',\n",
       " 982: 'attempts',\n",
       " 983: 'supposed',\n",
       " 984: 'light',\n",
       " 985: 'situation',\n",
       " 986: 'leave',\n",
       " 987: 'bear',\n",
       " 988: 'kinda',\n",
       " 989: 'question',\n",
       " 990: 'lucy',\n",
       " 991: 'wonder',\n",
       " 992: 'composition',\n",
       " 993: 'brian',\n",
       " 994: 'son',\n",
       " 995: 'member',\n",
       " 996: 'identify',\n",
       " 997: \"huston's\",\n",
       " 998: 'steve',\n",
       " 999: 'robert',\n",
       " 1000: 'father',\n",
       " ...}"
      ]
     },
     "execution_count": 26,
     "metadata": {},
     "output_type": "execute_result"
    }
   ],
   "source": [
    "tk.index_word"
   ]
  },
  {
   "cell_type": "code",
   "execution_count": 28,
   "metadata": {},
   "outputs": [
    {
     "data": {
      "text/plain": [
       "array([104, 163,   1,  38])"
      ]
     },
     "execution_count": 28,
     "metadata": {},
     "output_type": "execute_result"
    }
   ],
   "source": [
    "xs[0]"
   ]
  },
  {
   "cell_type": "code",
   "execution_count": 32,
   "metadata": {},
   "outputs": [
    {
     "data": {
      "text/plain": [
       "2001"
      ]
     },
     "execution_count": 32,
     "metadata": {},
     "output_type": "execute_result"
    }
   ],
   "source": [
    "NUM_WORD"
   ]
  },
  {
   "cell_type": "code",
   "execution_count": 29,
   "metadata": {},
   "outputs": [],
   "source": [
    "# output_dim을 너무 크게 하면 성능이 좋아지지만 과적합이 일어날 수 있음  여러 시도를 통해 조절\n",
    "emb1 = tf.keras.layers.Embedding(\n",
    "    input_dim = NUM_WORD,\n",
    "    output_dim=8\n",
    ")"
   ]
  },
  {
   "cell_type": "code",
   "execution_count": 30,
   "metadata": {},
   "outputs": [],
   "source": [
    "lm = tf.keras.Sequential([\n",
    "    emb1, # 4단어 * 8 = 32벡터\n",
    "    tf.keras.layers.GlobalAveragePooling1D(), \n",
    "    # emb1층에서 출력한 32벡터를 각 단어 벡터 위치별로 평균을 냄 : 출력은 8벡터\n",
    "    tf.keras.layers.Dense(8, activation='relu'),\n",
    "    # 입력 4단어에 대한 출력값은 2001(NUM_WORD)개의 벡터값으로 나옴\n",
    "    tf.keras.layers.Dense(NUM_WORD)\n",
    "    # tf.keras.layers.Dense(NUM_WORD-3, activation='softmax')\n",
    "])"
   ]
  },
  {
   "cell_type": "code",
   "execution_count": 31,
   "metadata": {},
   "outputs": [
    {
     "name": "stdout",
     "output_type": "stream",
     "text": [
      "Model: \"sequential\"\n",
      "_________________________________________________________________\n",
      " Layer (type)                Output Shape              Param #   \n",
      "=================================================================\n",
      " embedding (Embedding)       (None, None, 8)           16008     \n",
      "                                                                 \n",
      " global_average_pooling1d (G  (None, 8)                0         \n",
      " lobalAveragePooling1D)                                          \n",
      "                                                                 \n",
      " dense (Dense)               (None, 8)                 72        \n",
      "                                                                 \n",
      " dense_1 (Dense)             (None, 2001)              18009     \n",
      "                                                                 \n",
      "=================================================================\n",
      "Total params: 34,089\n",
      "Trainable params: 34,089\n",
      "Non-trainable params: 0\n",
      "_________________________________________________________________\n"
     ]
    }
   ],
   "source": [
    "# embedding (Embedding)    (None, None, 8)\n",
    "# 첫번째 None : 데이터의 건수 , 두번째 None : 단어의 개수(4개)\n",
    "lm.summary()"
   ]
  },
  {
   "cell_type": "code",
   "execution_count": 33,
   "metadata": {},
   "outputs": [],
   "source": [
    "# softmax를 적용하는 두가지 방법\n",
    "# 방법1 : Dense에서 적용 (tf.keras.layers.Dense(NUM_WORD, activation='softmax'))\n",
    "# 방법2 : 손실함수에서 적용(compile설정시 from_logits=True값 설정)\n",
    "# 텐서플로우에는 함수에서 소프트맥스를 자체 처리하는 경우들이 많이 있음\n",
    "# 모델에서 처리시 나중에 추가적인 작업이 필요할 수 있음. 그래서 손실함수 처리시에 softmax를 적용하는 것이 좋음\n",
    "\n",
    "lm.compile(\n",
    "    loss = tf.keras.losses.SparseCategoricalCrossentropy(from_logits=True),\n",
    "    # loss=tf.keras.losses.CategoricalCrossentropy(),\n",
    "    # SparseCategoricalCrossentropy : 학습시점의 y값은 one-hot 안해도 됨, \n",
    "    # CategoricalCrossentropy : 학습시점의 y값은 one-hot 해야함\n",
    "    optimizer='adam',\n",
    "    metrics=['accuracy']\n",
    ")"
   ]
  },
  {
   "cell_type": "code",
   "execution_count": null,
   "metadata": {},
   "outputs": [],
   "source": [
    "'''\n",
    "from tensorflow.keras.utils import to_categorical\n",
    "ys_onehot = to_categorical(ys)\n",
    "'''"
   ]
  },
  {
   "cell_type": "code",
   "execution_count": 34,
   "metadata": {},
   "outputs": [
    {
     "name": "stdout",
     "output_type": "stream",
     "text": [
      "331/331 [==============================] - 1s 1ms/step - loss: 6.8683 - accuracy: 0.0851\n"
     ]
    },
    {
     "data": {
      "text/plain": [
       "<keras.callbacks.History at 0x130a2867c70>"
      ]
     },
     "execution_count": 34,
     "metadata": {},
     "output_type": "execute_result"
    }
   ],
   "source": [
    "lm.fit(xs, ys, epochs=1) # compile설정에서 SparseCategoricalCrossentropy를 사용할 경우\n",
    "#lm.fit(xs, ys_onehot, epochs=1) # compile설정에서 CategoricalCrossentropy를 사용할 경우"
   ]
  },
  {
   "cell_type": "code",
   "execution_count": 35,
   "metadata": {},
   "outputs": [
    {
     "name": "stdout",
     "output_type": "stream",
     "text": [
      "INFO:tensorflow:Assets written to: lm.krs\\assets\n"
     ]
    }
   ],
   "source": [
    "lm.save('lm.krs')"
   ]
  },
  {
   "cell_type": "markdown",
   "metadata": {},
   "source": [
    "## 단어 임베딩"
   ]
  },
  {
   "cell_type": "code",
   "execution_count": 36,
   "metadata": {},
   "outputs": [
    {
     "data": {
      "text/plain": [
       "<keras.layers.core.embedding.Embedding at 0x130a25254e0>"
      ]
     },
     "execution_count": 36,
     "metadata": {},
     "output_type": "execute_result"
    }
   ],
   "source": [
    "emb1"
   ]
  },
  {
   "cell_type": "code",
   "execution_count": 37,
   "metadata": {},
   "outputs": [
    {
     "data": {
      "text/plain": [
       "<tf.Variable 'embedding/embeddings:0' shape=(2001, 8) dtype=float32, numpy=\n",
       "array([[ 0.0017763 , -0.01911992, -0.00221312, ...,  0.03297141,\n",
       "         0.00495137,  0.01303538],\n",
       "       [ 0.41046378,  0.43060777, -0.38337484, ...,  0.37061965,\n",
       "         0.34862566,  0.3844976 ],\n",
       "       [ 0.32375893,  0.3661929 , -0.3604813 , ...,  0.3352934 ,\n",
       "         0.32809526,  0.34019604],\n",
       "       ...,\n",
       "       [-0.02781241,  0.0594218 ,  0.00724434, ...,  0.01269157,\n",
       "         0.04090081,  0.06964922],\n",
       "       [ 0.02197117,  0.04409891, -0.04688103, ...,  0.00060604,\n",
       "        -0.00566495,  0.00893889],\n",
       "       [-0.04134064,  0.03204687, -0.04843846, ..., -0.00140203,\n",
       "         0.04859921, -0.00658491]], dtype=float32)>"
      ]
     },
     "execution_count": 37,
     "metadata": {},
     "output_type": "execute_result"
    }
   ],
   "source": [
    "emb1.embeddings"
   ]
  },
  {
   "cell_type": "code",
   "execution_count": 38,
   "metadata": {},
   "outputs": [
    {
     "data": {
      "text/plain": [
       "array([[ 0.0017763 , -0.01911992, -0.00221312, ...,  0.03297141,\n",
       "         0.00495137,  0.01303538],\n",
       "       [ 0.41046378,  0.43060777, -0.38337484, ...,  0.37061965,\n",
       "         0.34862566,  0.3844976 ],\n",
       "       [ 0.32375893,  0.3661929 , -0.3604813 , ...,  0.3352934 ,\n",
       "         0.32809526,  0.34019604],\n",
       "       ...,\n",
       "       [-0.02781241,  0.0594218 ,  0.00724434, ...,  0.01269157,\n",
       "         0.04090081,  0.06964922],\n",
       "       [ 0.02197117,  0.04409891, -0.04688103, ...,  0.00060604,\n",
       "        -0.00566495,  0.00893889],\n",
       "       [-0.04134064,  0.03204687, -0.04843846, ..., -0.00140203,\n",
       "         0.04859921, -0.00658491]], dtype=float32)"
      ]
     },
     "execution_count": 38,
     "metadata": {},
     "output_type": "execute_result"
    }
   ],
   "source": [
    "e = emb1.embeddings.numpy()\n",
    "e"
   ]
  },
  {
   "cell_type": "code",
   "execution_count": 40,
   "metadata": {},
   "outputs": [
    {
     "data": {
      "text/plain": [
       "(2001, 8)"
      ]
     },
     "execution_count": 40,
     "metadata": {},
     "output_type": "execute_result"
    }
   ],
   "source": [
    "e.shape"
   ]
  },
  {
   "cell_type": "code",
   "execution_count": 41,
   "metadata": {},
   "outputs": [
    {
     "data": {
      "text/plain": [
       "[array([[ 0.0017763 , -0.01911992, -0.00221312, ...,  0.03297141,\n",
       "          0.00495137,  0.01303538],\n",
       "        [ 0.41046378,  0.43060777, -0.38337484, ...,  0.37061965,\n",
       "          0.34862566,  0.3844976 ],\n",
       "        [ 0.32375893,  0.3661929 , -0.3604813 , ...,  0.3352934 ,\n",
       "          0.32809526,  0.34019604],\n",
       "        ...,\n",
       "        [-0.02781241,  0.0594218 ,  0.00724434, ...,  0.01269157,\n",
       "          0.04090081,  0.06964922],\n",
       "        [ 0.02197117,  0.04409891, -0.04688103, ...,  0.00060604,\n",
       "         -0.00566495,  0.00893889],\n",
       "        [-0.04134064,  0.03204687, -0.04843846, ..., -0.00140203,\n",
       "          0.04859921, -0.00658491]], dtype=float32)]"
      ]
     },
     "execution_count": 41,
     "metadata": {},
     "output_type": "execute_result"
    }
   ],
   "source": [
    "emb1.get_weights()"
   ]
  },
  {
   "cell_type": "code",
   "execution_count": 42,
   "metadata": {},
   "outputs": [
    {
     "data": {
      "text/plain": [
       "array([[ 0.0017763 , -0.01911992, -0.00221312, ...,  0.03297141,\n",
       "         0.00495137,  0.01303538],\n",
       "       [ 0.41046378,  0.43060777, -0.38337484, ...,  0.37061965,\n",
       "         0.34862566,  0.3844976 ],\n",
       "       [ 0.32375893,  0.3661929 , -0.3604813 , ...,  0.3352934 ,\n",
       "         0.32809526,  0.34019604],\n",
       "       ...,\n",
       "       [-0.02781241,  0.0594218 ,  0.00724434, ...,  0.01269157,\n",
       "         0.04090081,  0.06964922],\n",
       "       [ 0.02197117,  0.04409891, -0.04688103, ...,  0.00060604,\n",
       "        -0.00566495,  0.00893889],\n",
       "       [-0.04134064,  0.03204687, -0.04843846, ..., -0.00140203,\n",
       "         0.04859921, -0.00658491]], dtype=float32)"
      ]
     },
     "execution_count": 42,
     "metadata": {},
     "output_type": "execute_result"
    }
   ],
   "source": [
    "w = emb1.get_weights()[0]\n",
    "w"
   ]
  },
  {
   "cell_type": "code",
   "execution_count": 43,
   "metadata": {},
   "outputs": [
    {
     "data": {
      "text/plain": [
       "True"
      ]
     },
     "execution_count": 43,
     "metadata": {},
     "output_type": "execute_result"
    }
   ],
   "source": [
    "np.array_equal(e, w)"
   ]
  },
  {
   "cell_type": "code",
   "execution_count": 44,
   "metadata": {},
   "outputs": [],
   "source": [
    "np.savez('word-emb.npz',emb=e)"
   ]
  },
  {
   "cell_type": "markdown",
   "metadata": {},
   "source": [
    "## Global Average Pooling 1D"
   ]
  },
  {
   "cell_type": "code",
   "execution_count": 45,
   "metadata": {},
   "outputs": [],
   "source": [
    "import tensorflow as tf\n",
    "import numpy as np"
   ]
  },
  {
   "cell_type": "code",
   "execution_count": 46,
   "metadata": {},
   "outputs": [
    {
     "data": {
      "text/plain": [
       "array([[[1., 2., 3.],\n",
       "        [3., 6., 9.]]], dtype=float32)"
      ]
     },
     "execution_count": 46,
     "metadata": {},
     "output_type": "execute_result"
    }
   ],
   "source": [
    "x = np.array([[[1,2,3],[3,6,9]]], dtype='float32')\n",
    "x"
   ]
  },
  {
   "cell_type": "code",
   "execution_count": 47,
   "metadata": {},
   "outputs": [
    {
     "data": {
      "text/plain": [
       "(1, 2, 3)"
      ]
     },
     "execution_count": 47,
     "metadata": {},
     "output_type": "execute_result"
    }
   ],
   "source": [
    "x.shape"
   ]
  },
  {
   "cell_type": "code",
   "execution_count": 48,
   "metadata": {},
   "outputs": [
    {
     "data": {
      "text/plain": [
       "<keras.layers.pooling.global_average_pooling1d.GlobalAveragePooling1D at 0x130aac507c0>"
      ]
     },
     "execution_count": 48,
     "metadata": {},
     "output_type": "execute_result"
    }
   ],
   "source": [
    "avg = tf.keras.layers.GlobalAveragePooling1D()\n",
    "avg"
   ]
  },
  {
   "cell_type": "code",
   "execution_count": 49,
   "metadata": {},
   "outputs": [
    {
     "data": {
      "text/plain": [
       "array([[2., 4., 6.]], dtype=float32)"
      ]
     },
     "execution_count": 49,
     "metadata": {},
     "output_type": "execute_result"
    }
   ],
   "source": [
    "y = avg(x).numpy()\n",
    "y"
   ]
  },
  {
   "cell_type": "markdown",
   "metadata": {},
   "source": [
    "## 다음 토큰 확률 예측"
   ]
  },
  {
   "cell_type": "code",
   "execution_count": 50,
   "metadata": {},
   "outputs": [],
   "source": [
    "import joblib\n",
    "\n",
    "tk = joblib.load('tokenizer.pkl')"
   ]
  },
  {
   "cell_type": "code",
   "execution_count": 51,
   "metadata": {},
   "outputs": [],
   "source": [
    "xs, ys = joblib.load('lm-data.pkl')"
   ]
  },
  {
   "cell_type": "code",
   "execution_count": 52,
   "metadata": {},
   "outputs": [],
   "source": [
    "import tensorflow as tf\n",
    "lm = tf.keras.models.load_model('lm.krs')"
   ]
  },
  {
   "cell_type": "code",
   "execution_count": 53,
   "metadata": {},
   "outputs": [],
   "source": [
    "x = xs[0:1]\n",
    "y = ys[0]"
   ]
  },
  {
   "cell_type": "code",
   "execution_count": 54,
   "metadata": {},
   "outputs": [
    {
     "data": {
      "text/plain": [
       "array([[104, 163,   1,  38]])"
      ]
     },
     "execution_count": 54,
     "metadata": {},
     "output_type": "execute_result"
    }
   ],
   "source": [
    "x"
   ]
  },
  {
   "cell_type": "code",
   "execution_count": 55,
   "metadata": {},
   "outputs": [
    {
     "data": {
      "text/plain": [
       "30"
      ]
     },
     "execution_count": 55,
     "metadata": {},
     "output_type": "execute_result"
    }
   ],
   "source": [
    "y"
   ]
  },
  {
   "cell_type": "code",
   "execution_count": 56,
   "metadata": {},
   "outputs": [
    {
     "data": {
      "text/plain": [
       "['much', 'been', '<unk>', 'by']"
      ]
     },
     "execution_count": 56,
     "metadata": {},
     "output_type": "execute_result"
    }
   ],
   "source": [
    "[tk.index_word[i] for i in x[0]]"
   ]
  },
  {
   "cell_type": "code",
   "execution_count": 57,
   "metadata": {},
   "outputs": [
    {
     "data": {
      "text/plain": [
       "'ever'"
      ]
     },
     "execution_count": 57,
     "metadata": {},
     "output_type": "execute_result"
    }
   ],
   "source": [
    "tk.index_word[64]"
   ]
  },
  {
   "cell_type": "code",
   "execution_count": 58,
   "metadata": {},
   "outputs": [
    {
     "data": {
      "text/plain": [
       "(1, 4)"
      ]
     },
     "execution_count": 58,
     "metadata": {},
     "output_type": "execute_result"
    }
   ],
   "source": [
    "x.shape"
   ]
  },
  {
   "cell_type": "code",
   "execution_count": 59,
   "metadata": {},
   "outputs": [
    {
     "name": "stdout",
     "output_type": "stream",
     "text": [
      "1/1 [==============================] - 0s 68ms/step\n"
     ]
    },
    {
     "data": {
      "text/plain": [
       "(1, 2001)"
      ]
     },
     "execution_count": 59,
     "metadata": {},
     "output_type": "execute_result"
    }
   ],
   "source": [
    "logit = lm.predict(x.astype('float32'))\n",
    "logit.shape"
   ]
  },
  {
   "cell_type": "code",
   "execution_count": 60,
   "metadata": {},
   "outputs": [
    {
     "data": {
      "text/plain": [
       "(array([[-3.791658 ,  3.8141322,  3.3130033, ..., -3.945926 , -3.803755 ,\n",
       "         -3.8463213]], dtype=float32),\n",
       " 2001)"
      ]
     },
     "execution_count": 60,
     "metadata": {},
     "output_type": "execute_result"
    }
   ],
   "source": [
    "logit, len(logit[0])"
   ]
  },
  {
   "cell_type": "code",
   "execution_count": 62,
   "metadata": {},
   "outputs": [
    {
     "data": {
      "text/plain": [
       "array([[4.0738883e-05, 8.1876978e-02, 4.9604867e-02, ..., 3.4914938e-05,\n",
       "        4.0249019e-05, 3.8571718e-05]], dtype=float32)"
      ]
     },
     "execution_count": 62,
     "metadata": {},
     "output_type": "execute_result"
    }
   ],
   "source": [
    "p = tf.nn.softmax(logit).numpy()\n",
    "p"
   ]
  },
  {
   "cell_type": "code",
   "execution_count": 63,
   "metadata": {},
   "outputs": [
    {
     "data": {
      "text/plain": [
       "0.99999994"
      ]
     },
     "execution_count": 63,
     "metadata": {},
     "output_type": "execute_result"
    }
   ],
   "source": [
    "p.sum()"
   ]
  },
  {
   "cell_type": "code",
   "execution_count": 64,
   "metadata": {},
   "outputs": [
    {
     "data": {
      "text/plain": [
       "0.0026435675"
      ]
     },
     "execution_count": 64,
     "metadata": {},
     "output_type": "execute_result"
    }
   ],
   "source": [
    "p[0, 64]"
   ]
  },
  {
   "cell_type": "code",
   "execution_count": 65,
   "metadata": {},
   "outputs": [
    {
     "data": {
      "text/plain": [
       "1"
      ]
     },
     "execution_count": 65,
     "metadata": {},
     "output_type": "execute_result"
    }
   ],
   "source": [
    "i = p.argmax()\n",
    "i"
   ]
  },
  {
   "cell_type": "code",
   "execution_count": 67,
   "metadata": {},
   "outputs": [
    {
     "data": {
      "text/plain": [
       "0.08187698"
      ]
     },
     "execution_count": 67,
     "metadata": {},
     "output_type": "execute_result"
    }
   ],
   "source": [
    "p[0, i]"
   ]
  },
  {
   "cell_type": "code",
   "execution_count": 68,
   "metadata": {},
   "outputs": [
    {
     "data": {
      "text/plain": [
       "'<unk>'"
      ]
     },
     "execution_count": 68,
     "metadata": {},
     "output_type": "execute_result"
    }
   ],
   "source": [
    "tk.index_word[i]"
   ]
  },
  {
   "cell_type": "markdown",
   "metadata": {},
   "source": [
    "## 전이 학습"
   ]
  },
  {
   "cell_type": "code",
   "execution_count": 1,
   "metadata": {},
   "outputs": [
    {
     "data": {
      "text/html": [
       "<div>\n",
       "<style scoped>\n",
       "    .dataframe tbody tr th:only-of-type {\n",
       "        vertical-align: middle;\n",
       "    }\n",
       "\n",
       "    .dataframe tbody tr th {\n",
       "        vertical-align: top;\n",
       "    }\n",
       "\n",
       "    .dataframe thead th {\n",
       "        text-align: right;\n",
       "    }\n",
       "</style>\n",
       "<table border=\"1\" class=\"dataframe\">\n",
       "  <thead>\n",
       "    <tr style=\"text-align: right;\">\n",
       "      <th></th>\n",
       "      <th>review</th>\n",
       "      <th>sentiment</th>\n",
       "    </tr>\n",
       "  </thead>\n",
       "  <tbody>\n",
       "    <tr>\n",
       "      <th>0</th>\n",
       "      <td>A very, very, very slow-moving, aimless movie ...</td>\n",
       "      <td>0</td>\n",
       "    </tr>\n",
       "    <tr>\n",
       "      <th>1</th>\n",
       "      <td>Not sure who was more lost - the flat characte...</td>\n",
       "      <td>0</td>\n",
       "    </tr>\n",
       "    <tr>\n",
       "      <th>2</th>\n",
       "      <td>Attempting artiness with black &amp; white and cle...</td>\n",
       "      <td>0</td>\n",
       "    </tr>\n",
       "    <tr>\n",
       "      <th>3</th>\n",
       "      <td>Very little music or anything to speak of.</td>\n",
       "      <td>0</td>\n",
       "    </tr>\n",
       "    <tr>\n",
       "      <th>4</th>\n",
       "      <td>The best scene in the movie was when Gerardo i...</td>\n",
       "      <td>1</td>\n",
       "    </tr>\n",
       "    <tr>\n",
       "      <th>...</th>\n",
       "      <td>...</td>\n",
       "      <td>...</td>\n",
       "    </tr>\n",
       "    <tr>\n",
       "      <th>995</th>\n",
       "      <td>I just got bored watching Jessice Lange take h...</td>\n",
       "      <td>0</td>\n",
       "    </tr>\n",
       "    <tr>\n",
       "      <th>996</th>\n",
       "      <td>Unfortunately, any virtue in this film's produ...</td>\n",
       "      <td>0</td>\n",
       "    </tr>\n",
       "    <tr>\n",
       "      <th>997</th>\n",
       "      <td>In a word, it is embarrassing.</td>\n",
       "      <td>0</td>\n",
       "    </tr>\n",
       "    <tr>\n",
       "      <th>998</th>\n",
       "      <td>Exceptionally bad!</td>\n",
       "      <td>0</td>\n",
       "    </tr>\n",
       "    <tr>\n",
       "      <th>999</th>\n",
       "      <td>All in all its an insult to one's intelligence...</td>\n",
       "      <td>0</td>\n",
       "    </tr>\n",
       "  </tbody>\n",
       "</table>\n",
       "<p>1000 rows × 2 columns</p>\n",
       "</div>"
      ],
      "text/plain": [
       "                                                review  sentiment\n",
       "0    A very, very, very slow-moving, aimless movie ...          0\n",
       "1    Not sure who was more lost - the flat characte...          0\n",
       "2    Attempting artiness with black & white and cle...          0\n",
       "3           Very little music or anything to speak of.          0\n",
       "4    The best scene in the movie was when Gerardo i...          1\n",
       "..                                                 ...        ...\n",
       "995  I just got bored watching Jessice Lange take h...          0\n",
       "996  Unfortunately, any virtue in this film's produ...          0\n",
       "997                     In a word, it is embarrassing.          0\n",
       "998                                 Exceptionally bad!          0\n",
       "999  All in all its an insult to one's intelligence...          0\n",
       "\n",
       "[1000 rows x 2 columns]"
      ]
     },
     "execution_count": 1,
     "metadata": {},
     "output_type": "execute_result"
    }
   ],
   "source": [
    "import pandas as pd\n",
    "\n",
    "df = pd.read_csv('imdb.zip')\n",
    "df"
   ]
  },
  {
   "cell_type": "code",
   "execution_count": 2,
   "metadata": {},
   "outputs": [],
   "source": [
    "import joblib\n",
    "tk = joblib.load('tokenizer.pkl')"
   ]
  },
  {
   "cell_type": "code",
   "execution_count": 3,
   "metadata": {},
   "outputs": [],
   "source": [
    "seqs = tk.texts_to_sequences(df['review'])"
   ]
  },
  {
   "cell_type": "code",
   "execution_count": 4,
   "metadata": {},
   "outputs": [
    {
     "data": {
      "text/plain": [
       "[4, 27, 27, 27, 287, 407, 1217, 13, 36, 4, 1218, 1219, 408, 142]"
      ]
     },
     "execution_count": 4,
     "metadata": {},
     "output_type": "execute_result"
    }
   ],
   "source": [
    "seqs[0]"
   ]
  },
  {
   "cell_type": "code",
   "execution_count": 5,
   "metadata": {},
   "outputs": [
    {
     "data": {
      "text/plain": [
       "[24, 522, 51, 12, 60, 409, 2, 736, 56, 46, 2, 337, 1220, 288, 5, 737, 738, 44]"
      ]
     },
     "execution_count": 5,
     "metadata": {},
     "output_type": "execute_result"
    }
   ],
   "source": [
    "seqs[1]"
   ]
  },
  {
   "cell_type": "code",
   "execution_count": 7,
   "metadata": {},
   "outputs": [],
   "source": [
    "from tensorflow import keras"
   ]
  },
  {
   "cell_type": "code",
   "execution_count": 10,
   "metadata": {},
   "outputs": [],
   "source": [
    "import tensorflow as tf\n",
    "\n",
    "pads = tf.keras.preprocessing.sequence.pad_sequences(seqs)"
   ]
  },
  {
   "cell_type": "code",
   "execution_count": 11,
   "metadata": {},
   "outputs": [
    {
     "data": {
      "text/plain": [
       "array([   0,    0,    0,    0,    0,    0,    0,    0,    0,    0,    0,\n",
       "          0,    0,    0,    0,    0,    0,    0,    0,    0,    0,    0,\n",
       "          0,    0,    0,    0,    0,    0,    0,    0,    0,    0,    0,\n",
       "          0,    0,    0,    0,    0,    0,    0,    0,    0,    0,    0,\n",
       "          0,    0,    0,    0,    0,    0,    0,    0,    0,    0,    0,\n",
       "          0,    0,    0,    0,    4,   27,   27,   27,  287,  407, 1217,\n",
       "         13,   36,    4, 1218, 1219,  408,  142])"
      ]
     },
     "execution_count": 11,
     "metadata": {},
     "output_type": "execute_result"
    }
   ],
   "source": [
    "pads[0]"
   ]
  },
  {
   "cell_type": "markdown",
   "metadata": {},
   "source": [
    "## 단어 임베딩 불러오기"
   ]
  },
  {
   "cell_type": "code",
   "execution_count": 13,
   "metadata": {},
   "outputs": [
    {
     "data": {
      "text/plain": [
       "array([[ 0.0017763 , -0.01911992, -0.00221312, ...,  0.03297141,\n",
       "         0.00495137,  0.01303538],\n",
       "       [ 0.41046378,  0.43060777, -0.38337484, ...,  0.37061965,\n",
       "         0.34862566,  0.3844976 ],\n",
       "       [ 0.32375893,  0.3661929 , -0.3604813 , ...,  0.3352934 ,\n",
       "         0.32809526,  0.34019604],\n",
       "       ...,\n",
       "       [-0.02781241,  0.0594218 ,  0.00724434, ...,  0.01269157,\n",
       "         0.04090081,  0.06964922],\n",
       "       [ 0.02197117,  0.04409891, -0.04688103, ...,  0.00060604,\n",
       "        -0.00566495,  0.00893889],\n",
       "       [-0.04134064,  0.03204687, -0.04843846, ..., -0.00140203,\n",
       "         0.04859921, -0.00658491]], dtype=float32)"
      ]
     },
     "execution_count": 13,
     "metadata": {},
     "output_type": "execute_result"
    }
   ],
   "source": [
    "import numpy as np\n",
    "\n",
    "z = np.load('word-emb.npz')\n",
    "e = z['emb']\n",
    "e"
   ]
  },
  {
   "cell_type": "markdown",
   "metadata": {},
   "source": [
    "## 감성 분석"
   ]
  },
  {
   "cell_type": "code",
   "execution_count": 14,
   "metadata": {},
   "outputs": [],
   "source": [
    "emb2 = tf.keras.layers.Embedding(\n",
    "    input_dim=tk.num_words + 1 ,\n",
    "    output_dim=8,\n",
    "    embeddings_initializer=tf.keras.initializers.Constant(e)\n",
    ")"
   ]
  },
  {
   "cell_type": "code",
   "execution_count": 15,
   "metadata": {},
   "outputs": [],
   "source": [
    "model = tf.keras.Sequential([\n",
    "    emb2,\n",
    "    tf.keras.layers.GlobalAveragePooling1D(),\n",
    "    tf.keras.layers.Dense(8, activation='relu'),\n",
    "    tf.keras.layers.Dense(1, activation='sigmoid')\n",
    "])"
   ]
  },
  {
   "cell_type": "code",
   "execution_count": 16,
   "metadata": {},
   "outputs": [
    {
     "name": "stdout",
     "output_type": "stream",
     "text": [
      "Model: \"sequential\"\n",
      "_________________________________________________________________\n",
      " Layer (type)                Output Shape              Param #   \n",
      "=================================================================\n",
      " embedding (Embedding)       (None, None, 8)           16008     \n",
      "                                                                 \n",
      " global_average_pooling1d (G  (None, 8)                0         \n",
      " lobalAveragePooling1D)                                          \n",
      "                                                                 \n",
      " dense (Dense)               (None, 8)                 72        \n",
      "                                                                 \n",
      " dense_1 (Dense)             (None, 1)                 9         \n",
      "                                                                 \n",
      "=================================================================\n",
      "Total params: 16,089\n",
      "Trainable params: 16,089\n",
      "Non-trainable params: 0\n",
      "_________________________________________________________________\n"
     ]
    }
   ],
   "source": [
    "model.summary()"
   ]
  },
  {
   "cell_type": "code",
   "execution_count": 17,
   "metadata": {},
   "outputs": [],
   "source": [
    "model.compile(\n",
    "    loss = 'binary_crossentropy',\n",
    "    optimizer='adam',\n",
    "    metrics=['accuracy']\n",
    ")"
   ]
  },
  {
   "cell_type": "code",
   "execution_count": 18,
   "metadata": {},
   "outputs": [],
   "source": [
    "y = df['sentiment'].values"
   ]
  },
  {
   "cell_type": "code",
   "execution_count": 19,
   "metadata": {},
   "outputs": [
    {
     "name": "stdout",
     "output_type": "stream",
     "text": [
      "32/32 [==============================] - 0s 868us/step - loss: 0.6951 - accuracy: 0.5000\n"
     ]
    },
    {
     "data": {
      "text/plain": [
       "<keras.callbacks.History at 0x133634baf50>"
      ]
     },
     "execution_count": 19,
     "metadata": {},
     "output_type": "execute_result"
    }
   ],
   "source": [
    "model.fit(pads, y)"
   ]
  },
  {
   "cell_type": "code",
   "execution_count": null,
   "metadata": {},
   "outputs": [],
   "source": []
  }
 ],
 "metadata": {
  "kernelspec": {
   "display_name": "study",
   "language": "python",
   "name": "study"
  },
  "language_info": {
   "codemirror_mode": {
    "name": "ipython",
    "version": 3
   },
   "file_extension": ".py",
   "mimetype": "text/x-python",
   "name": "python",
   "nbconvert_exporter": "python",
   "pygments_lexer": "ipython3",
   "version": "3.10.4"
  },
  "orig_nbformat": 4,
  "vscode": {
   "interpreter": {
    "hash": "e99cd6124d1454c43974c193ef05ef59cc7820eb47b987c9c9e53e57b79f92b9"
   }
  }
 },
 "nbformat": 4,
 "nbformat_minor": 2
}
